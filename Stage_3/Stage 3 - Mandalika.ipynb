{
 "cells": [
  {
   "cell_type": "markdown",
   "id": "05444368-f6ad-46d2-8c70-00baa48732ef",
   "metadata": {},
   "source": [
    "**Nama Kelompok :** Mandalika\n",
    "\n",
    "**Anggota :**\n",
    "1. Ardilla Safitri\n",
    "2. Jonse Kennedy\n",
    "3. Fakhry Husnul\n",
    "4. Lise Listianti\n",
    "5. Riska Diah N\n",
    "6. Arni Cici Suryani"
   ]
  },
  {
   "cell_type": "markdown",
   "id": "904e6615-c478-4f34-b65d-32018ad36e0e",
   "metadata": {},
   "source": [
    "# Import Libraries"
   ]
  },
  {
   "cell_type": "code",
   "execution_count": 1,
   "id": "01033e93-bfc5-4a58-b61c-c84296d88c3d",
   "metadata": {},
   "outputs": [],
   "source": [
    "import numpy as np\n",
    "import pandas as pd\n",
    "import matplotlib.pyplot as plt\n",
    "import seaborn as sns\n",
    "import warnings\n",
    "warnings.filterwarnings('ignore')"
   ]
  },
  {
   "cell_type": "markdown",
   "id": "5095d69a-8bed-457d-8c40-a0cf5378e7d7",
   "metadata": {},
   "source": [
    "# Load Dataset"
   ]
  },
  {
   "cell_type": "code",
   "execution_count": 2,
   "id": "9783a2d5-0274-4962-85ed-b9a49c96e316",
   "metadata": {},
   "outputs": [
    {
     "data": {
      "text/html": [
       "<div>\n",
       "<style scoped>\n",
       "    .dataframe tbody tr th:only-of-type {\n",
       "        vertical-align: middle;\n",
       "    }\n",
       "\n",
       "    .dataframe tbody tr th {\n",
       "        vertical-align: top;\n",
       "    }\n",
       "\n",
       "    .dataframe thead th {\n",
       "        text-align: right;\n",
       "    }\n",
       "</style>\n",
       "<table border=\"1\" class=\"dataframe\">\n",
       "  <thead>\n",
       "    <tr style=\"text-align: right;\">\n",
       "      <th></th>\n",
       "      <th>CustomerID</th>\n",
       "      <th>Churn</th>\n",
       "      <th>Tenure</th>\n",
       "      <th>PreferredLoginDevice</th>\n",
       "      <th>CityTier</th>\n",
       "      <th>WarehouseToHome</th>\n",
       "      <th>PreferredPaymentMode</th>\n",
       "      <th>Gender</th>\n",
       "      <th>HourSpendOnApp</th>\n",
       "      <th>NumberOfDeviceRegistered</th>\n",
       "      <th>PreferedOrderCat</th>\n",
       "      <th>SatisfactionScore</th>\n",
       "      <th>MaritalStatus</th>\n",
       "      <th>NumberOfAddress</th>\n",
       "      <th>Complain</th>\n",
       "      <th>OrderAmountHikeFromlastYear</th>\n",
       "      <th>CouponUsed</th>\n",
       "      <th>OrderCount</th>\n",
       "      <th>DaySinceLastOrder</th>\n",
       "      <th>CashbackAmount</th>\n",
       "    </tr>\n",
       "  </thead>\n",
       "  <tbody>\n",
       "    <tr>\n",
       "      <th>0</th>\n",
       "      <td>50001</td>\n",
       "      <td>1</td>\n",
       "      <td>4.0</td>\n",
       "      <td>Mobile Phone</td>\n",
       "      <td>3</td>\n",
       "      <td>6.0</td>\n",
       "      <td>Debit Card</td>\n",
       "      <td>Female</td>\n",
       "      <td>3.0</td>\n",
       "      <td>3</td>\n",
       "      <td>Laptop &amp; Accessory</td>\n",
       "      <td>2</td>\n",
       "      <td>Single</td>\n",
       "      <td>9</td>\n",
       "      <td>1</td>\n",
       "      <td>11.0</td>\n",
       "      <td>1.0</td>\n",
       "      <td>1.0</td>\n",
       "      <td>5.0</td>\n",
       "      <td>159.93</td>\n",
       "    </tr>\n",
       "    <tr>\n",
       "      <th>1</th>\n",
       "      <td>50002</td>\n",
       "      <td>1</td>\n",
       "      <td>NaN</td>\n",
       "      <td>Phone</td>\n",
       "      <td>1</td>\n",
       "      <td>8.0</td>\n",
       "      <td>UPI</td>\n",
       "      <td>Male</td>\n",
       "      <td>3.0</td>\n",
       "      <td>4</td>\n",
       "      <td>Mobile</td>\n",
       "      <td>3</td>\n",
       "      <td>Single</td>\n",
       "      <td>7</td>\n",
       "      <td>1</td>\n",
       "      <td>15.0</td>\n",
       "      <td>0.0</td>\n",
       "      <td>1.0</td>\n",
       "      <td>0.0</td>\n",
       "      <td>120.90</td>\n",
       "    </tr>\n",
       "    <tr>\n",
       "      <th>2</th>\n",
       "      <td>50003</td>\n",
       "      <td>1</td>\n",
       "      <td>NaN</td>\n",
       "      <td>Phone</td>\n",
       "      <td>1</td>\n",
       "      <td>30.0</td>\n",
       "      <td>Debit Card</td>\n",
       "      <td>Male</td>\n",
       "      <td>2.0</td>\n",
       "      <td>4</td>\n",
       "      <td>Mobile</td>\n",
       "      <td>3</td>\n",
       "      <td>Single</td>\n",
       "      <td>6</td>\n",
       "      <td>1</td>\n",
       "      <td>14.0</td>\n",
       "      <td>0.0</td>\n",
       "      <td>1.0</td>\n",
       "      <td>3.0</td>\n",
       "      <td>120.28</td>\n",
       "    </tr>\n",
       "    <tr>\n",
       "      <th>3</th>\n",
       "      <td>50004</td>\n",
       "      <td>1</td>\n",
       "      <td>0.0</td>\n",
       "      <td>Phone</td>\n",
       "      <td>3</td>\n",
       "      <td>15.0</td>\n",
       "      <td>Debit Card</td>\n",
       "      <td>Male</td>\n",
       "      <td>2.0</td>\n",
       "      <td>4</td>\n",
       "      <td>Laptop &amp; Accessory</td>\n",
       "      <td>5</td>\n",
       "      <td>Single</td>\n",
       "      <td>8</td>\n",
       "      <td>0</td>\n",
       "      <td>23.0</td>\n",
       "      <td>0.0</td>\n",
       "      <td>1.0</td>\n",
       "      <td>3.0</td>\n",
       "      <td>134.07</td>\n",
       "    </tr>\n",
       "    <tr>\n",
       "      <th>4</th>\n",
       "      <td>50005</td>\n",
       "      <td>1</td>\n",
       "      <td>0.0</td>\n",
       "      <td>Phone</td>\n",
       "      <td>1</td>\n",
       "      <td>12.0</td>\n",
       "      <td>CC</td>\n",
       "      <td>Male</td>\n",
       "      <td>NaN</td>\n",
       "      <td>3</td>\n",
       "      <td>Mobile</td>\n",
       "      <td>5</td>\n",
       "      <td>Single</td>\n",
       "      <td>3</td>\n",
       "      <td>0</td>\n",
       "      <td>11.0</td>\n",
       "      <td>1.0</td>\n",
       "      <td>1.0</td>\n",
       "      <td>3.0</td>\n",
       "      <td>129.60</td>\n",
       "    </tr>\n",
       "  </tbody>\n",
       "</table>\n",
       "</div>"
      ],
      "text/plain": [
       "   CustomerID  Churn  Tenure PreferredLoginDevice  CityTier  WarehouseToHome  \\\n",
       "0       50001      1     4.0         Mobile Phone         3              6.0   \n",
       "1       50002      1     NaN                Phone         1              8.0   \n",
       "2       50003      1     NaN                Phone         1             30.0   \n",
       "3       50004      1     0.0                Phone         3             15.0   \n",
       "4       50005      1     0.0                Phone         1             12.0   \n",
       "\n",
       "  PreferredPaymentMode  Gender  HourSpendOnApp  NumberOfDeviceRegistered  \\\n",
       "0           Debit Card  Female             3.0                         3   \n",
       "1                  UPI    Male             3.0                         4   \n",
       "2           Debit Card    Male             2.0                         4   \n",
       "3           Debit Card    Male             2.0                         4   \n",
       "4                   CC    Male             NaN                         3   \n",
       "\n",
       "     PreferedOrderCat  SatisfactionScore MaritalStatus  NumberOfAddress  \\\n",
       "0  Laptop & Accessory                  2        Single                9   \n",
       "1              Mobile                  3        Single                7   \n",
       "2              Mobile                  3        Single                6   \n",
       "3  Laptop & Accessory                  5        Single                8   \n",
       "4              Mobile                  5        Single                3   \n",
       "\n",
       "   Complain  OrderAmountHikeFromlastYear  CouponUsed  OrderCount  \\\n",
       "0         1                         11.0         1.0         1.0   \n",
       "1         1                         15.0         0.0         1.0   \n",
       "2         1                         14.0         0.0         1.0   \n",
       "3         0                         23.0         0.0         1.0   \n",
       "4         0                         11.0         1.0         1.0   \n",
       "\n",
       "   DaySinceLastOrder  CashbackAmount  \n",
       "0                5.0          159.93  \n",
       "1                0.0          120.90  \n",
       "2                3.0          120.28  \n",
       "3                3.0          134.07  \n",
       "4                3.0          129.60  "
      ]
     },
     "execution_count": 2,
     "metadata": {},
     "output_type": "execute_result"
    }
   ],
   "source": [
    "df = pd.read_excel('E Commerce Dataset.xlsx')\n",
    "df.head()"
   ]
  },
  {
   "cell_type": "code",
   "execution_count": 3,
   "id": "f4e9930a-5c48-4f0f-abb7-4ef60a117eed",
   "metadata": {},
   "outputs": [
    {
     "name": "stdout",
     "output_type": "stream",
     "text": [
      "<class 'pandas.core.frame.DataFrame'>\n",
      "RangeIndex: 5630 entries, 0 to 5629\n",
      "Data columns (total 20 columns):\n",
      " #   Column                       Non-Null Count  Dtype  \n",
      "---  ------                       --------------  -----  \n",
      " 0   CustomerID                   5630 non-null   int64  \n",
      " 1   Churn                        5630 non-null   int64  \n",
      " 2   Tenure                       5366 non-null   float64\n",
      " 3   PreferredLoginDevice         5630 non-null   object \n",
      " 4   CityTier                     5630 non-null   int64  \n",
      " 5   WarehouseToHome              5379 non-null   float64\n",
      " 6   PreferredPaymentMode         5630 non-null   object \n",
      " 7   Gender                       5630 non-null   object \n",
      " 8   HourSpendOnApp               5375 non-null   float64\n",
      " 9   NumberOfDeviceRegistered     5630 non-null   int64  \n",
      " 10  PreferedOrderCat             5630 non-null   object \n",
      " 11  SatisfactionScore            5630 non-null   int64  \n",
      " 12  MaritalStatus                5630 non-null   object \n",
      " 13  NumberOfAddress              5630 non-null   int64  \n",
      " 14  Complain                     5630 non-null   int64  \n",
      " 15  OrderAmountHikeFromlastYear  5365 non-null   float64\n",
      " 16  CouponUsed                   5374 non-null   float64\n",
      " 17  OrderCount                   5372 non-null   float64\n",
      " 18  DaySinceLastOrder            5323 non-null   float64\n",
      " 19  CashbackAmount               5630 non-null   float64\n",
      "dtypes: float64(8), int64(7), object(5)\n",
      "memory usage: 879.8+ KB\n"
     ]
    }
   ],
   "source": [
    "# informasi general tentang dataframe\n",
    "df.info()"
   ]
  },
  {
   "cell_type": "markdown",
   "id": "ed749aab-7de0-4042-ad3e-17ec46e2bf14",
   "metadata": {},
   "source": [
    "### Statistical Summary"
   ]
  },
  {
   "cell_type": "code",
   "execution_count": 4,
   "id": "12f8e62d-4169-4e28-8bfd-d0464d5d0978",
   "metadata": {},
   "outputs": [],
   "source": [
    "# pengelompokan kolom berdasarkan jenisnya\n",
    "nums = ['Churn', 'Tenure', 'CityTier', 'WarehouseToHome', 'HourSpendOnApp', 'NumberOfDeviceRegistered', 'SatisfactionScore', 'NumberOfAddress', 'Complain', 'OrderAmountHikeFromlastYear', 'CouponUsed', 'OrderCount', 'DaySinceLastOrder', 'CashbackAmount']\n",
    "cats = ['PreferredLoginDevice', 'PreferredPaymentMode', 'Gender', 'PreferedOrderCat', 'MaritalStatus']"
   ]
  },
  {
   "cell_type": "code",
   "execution_count": 5,
   "id": "4c2ec490-8947-450f-882c-e6f145fba408",
   "metadata": {},
   "outputs": [
    {
     "data": {
      "text/html": [
       "<div>\n",
       "<style scoped>\n",
       "    .dataframe tbody tr th:only-of-type {\n",
       "        vertical-align: middle;\n",
       "    }\n",
       "\n",
       "    .dataframe tbody tr th {\n",
       "        vertical-align: top;\n",
       "    }\n",
       "\n",
       "    .dataframe thead th {\n",
       "        text-align: right;\n",
       "    }\n",
       "</style>\n",
       "<table border=\"1\" class=\"dataframe\">\n",
       "  <thead>\n",
       "    <tr style=\"text-align: right;\">\n",
       "      <th></th>\n",
       "      <th>Churn</th>\n",
       "      <th>Tenure</th>\n",
       "      <th>CityTier</th>\n",
       "      <th>WarehouseToHome</th>\n",
       "      <th>HourSpendOnApp</th>\n",
       "      <th>NumberOfDeviceRegistered</th>\n",
       "      <th>SatisfactionScore</th>\n",
       "      <th>NumberOfAddress</th>\n",
       "      <th>Complain</th>\n",
       "      <th>OrderAmountHikeFromlastYear</th>\n",
       "      <th>CouponUsed</th>\n",
       "      <th>OrderCount</th>\n",
       "      <th>DaySinceLastOrder</th>\n",
       "      <th>CashbackAmount</th>\n",
       "    </tr>\n",
       "  </thead>\n",
       "  <tbody>\n",
       "    <tr>\n",
       "      <th>count</th>\n",
       "      <td>5630.000000</td>\n",
       "      <td>5366.000000</td>\n",
       "      <td>5630.000000</td>\n",
       "      <td>5379.000000</td>\n",
       "      <td>5375.000000</td>\n",
       "      <td>5630.000000</td>\n",
       "      <td>5630.000000</td>\n",
       "      <td>5630.000000</td>\n",
       "      <td>5630.000000</td>\n",
       "      <td>5365.000000</td>\n",
       "      <td>5374.000000</td>\n",
       "      <td>5372.000000</td>\n",
       "      <td>5323.000000</td>\n",
       "      <td>5630.000000</td>\n",
       "    </tr>\n",
       "    <tr>\n",
       "      <th>mean</th>\n",
       "      <td>0.168384</td>\n",
       "      <td>10.189899</td>\n",
       "      <td>1.654707</td>\n",
       "      <td>15.639896</td>\n",
       "      <td>2.931535</td>\n",
       "      <td>3.688988</td>\n",
       "      <td>3.066785</td>\n",
       "      <td>4.214032</td>\n",
       "      <td>0.284902</td>\n",
       "      <td>15.707922</td>\n",
       "      <td>1.751023</td>\n",
       "      <td>3.008004</td>\n",
       "      <td>4.543491</td>\n",
       "      <td>177.223030</td>\n",
       "    </tr>\n",
       "    <tr>\n",
       "      <th>std</th>\n",
       "      <td>0.374240</td>\n",
       "      <td>8.557241</td>\n",
       "      <td>0.915389</td>\n",
       "      <td>8.531475</td>\n",
       "      <td>0.721926</td>\n",
       "      <td>1.023999</td>\n",
       "      <td>1.380194</td>\n",
       "      <td>2.583586</td>\n",
       "      <td>0.451408</td>\n",
       "      <td>3.675485</td>\n",
       "      <td>1.894621</td>\n",
       "      <td>2.939680</td>\n",
       "      <td>3.654433</td>\n",
       "      <td>49.207036</td>\n",
       "    </tr>\n",
       "    <tr>\n",
       "      <th>min</th>\n",
       "      <td>0.000000</td>\n",
       "      <td>0.000000</td>\n",
       "      <td>1.000000</td>\n",
       "      <td>5.000000</td>\n",
       "      <td>0.000000</td>\n",
       "      <td>1.000000</td>\n",
       "      <td>1.000000</td>\n",
       "      <td>1.000000</td>\n",
       "      <td>0.000000</td>\n",
       "      <td>11.000000</td>\n",
       "      <td>0.000000</td>\n",
       "      <td>1.000000</td>\n",
       "      <td>0.000000</td>\n",
       "      <td>0.000000</td>\n",
       "    </tr>\n",
       "    <tr>\n",
       "      <th>25%</th>\n",
       "      <td>0.000000</td>\n",
       "      <td>2.000000</td>\n",
       "      <td>1.000000</td>\n",
       "      <td>9.000000</td>\n",
       "      <td>2.000000</td>\n",
       "      <td>3.000000</td>\n",
       "      <td>2.000000</td>\n",
       "      <td>2.000000</td>\n",
       "      <td>0.000000</td>\n",
       "      <td>13.000000</td>\n",
       "      <td>1.000000</td>\n",
       "      <td>1.000000</td>\n",
       "      <td>2.000000</td>\n",
       "      <td>145.770000</td>\n",
       "    </tr>\n",
       "    <tr>\n",
       "      <th>50%</th>\n",
       "      <td>0.000000</td>\n",
       "      <td>9.000000</td>\n",
       "      <td>1.000000</td>\n",
       "      <td>14.000000</td>\n",
       "      <td>3.000000</td>\n",
       "      <td>4.000000</td>\n",
       "      <td>3.000000</td>\n",
       "      <td>3.000000</td>\n",
       "      <td>0.000000</td>\n",
       "      <td>15.000000</td>\n",
       "      <td>1.000000</td>\n",
       "      <td>2.000000</td>\n",
       "      <td>3.000000</td>\n",
       "      <td>163.280000</td>\n",
       "    </tr>\n",
       "    <tr>\n",
       "      <th>75%</th>\n",
       "      <td>0.000000</td>\n",
       "      <td>16.000000</td>\n",
       "      <td>3.000000</td>\n",
       "      <td>20.000000</td>\n",
       "      <td>3.000000</td>\n",
       "      <td>4.000000</td>\n",
       "      <td>4.000000</td>\n",
       "      <td>6.000000</td>\n",
       "      <td>1.000000</td>\n",
       "      <td>18.000000</td>\n",
       "      <td>2.000000</td>\n",
       "      <td>3.000000</td>\n",
       "      <td>7.000000</td>\n",
       "      <td>196.392500</td>\n",
       "    </tr>\n",
       "    <tr>\n",
       "      <th>max</th>\n",
       "      <td>1.000000</td>\n",
       "      <td>61.000000</td>\n",
       "      <td>3.000000</td>\n",
       "      <td>127.000000</td>\n",
       "      <td>5.000000</td>\n",
       "      <td>6.000000</td>\n",
       "      <td>5.000000</td>\n",
       "      <td>22.000000</td>\n",
       "      <td>1.000000</td>\n",
       "      <td>26.000000</td>\n",
       "      <td>16.000000</td>\n",
       "      <td>16.000000</td>\n",
       "      <td>46.000000</td>\n",
       "      <td>324.990000</td>\n",
       "    </tr>\n",
       "  </tbody>\n",
       "</table>\n",
       "</div>"
      ],
      "text/plain": [
       "             Churn       Tenure     CityTier  WarehouseToHome  HourSpendOnApp  \\\n",
       "count  5630.000000  5366.000000  5630.000000      5379.000000     5375.000000   \n",
       "mean      0.168384    10.189899     1.654707        15.639896        2.931535   \n",
       "std       0.374240     8.557241     0.915389         8.531475        0.721926   \n",
       "min       0.000000     0.000000     1.000000         5.000000        0.000000   \n",
       "25%       0.000000     2.000000     1.000000         9.000000        2.000000   \n",
       "50%       0.000000     9.000000     1.000000        14.000000        3.000000   \n",
       "75%       0.000000    16.000000     3.000000        20.000000        3.000000   \n",
       "max       1.000000    61.000000     3.000000       127.000000        5.000000   \n",
       "\n",
       "       NumberOfDeviceRegistered  SatisfactionScore  NumberOfAddress  \\\n",
       "count               5630.000000        5630.000000      5630.000000   \n",
       "mean                   3.688988           3.066785         4.214032   \n",
       "std                    1.023999           1.380194         2.583586   \n",
       "min                    1.000000           1.000000         1.000000   \n",
       "25%                    3.000000           2.000000         2.000000   \n",
       "50%                    4.000000           3.000000         3.000000   \n",
       "75%                    4.000000           4.000000         6.000000   \n",
       "max                    6.000000           5.000000        22.000000   \n",
       "\n",
       "          Complain  OrderAmountHikeFromlastYear   CouponUsed   OrderCount  \\\n",
       "count  5630.000000                  5365.000000  5374.000000  5372.000000   \n",
       "mean      0.284902                    15.707922     1.751023     3.008004   \n",
       "std       0.451408                     3.675485     1.894621     2.939680   \n",
       "min       0.000000                    11.000000     0.000000     1.000000   \n",
       "25%       0.000000                    13.000000     1.000000     1.000000   \n",
       "50%       0.000000                    15.000000     1.000000     2.000000   \n",
       "75%       1.000000                    18.000000     2.000000     3.000000   \n",
       "max       1.000000                    26.000000    16.000000    16.000000   \n",
       "\n",
       "       DaySinceLastOrder  CashbackAmount  \n",
       "count        5323.000000     5630.000000  \n",
       "mean            4.543491      177.223030  \n",
       "std             3.654433       49.207036  \n",
       "min             0.000000        0.000000  \n",
       "25%             2.000000      145.770000  \n",
       "50%             3.000000      163.280000  \n",
       "75%             7.000000      196.392500  \n",
       "max            46.000000      324.990000  "
      ]
     },
     "execution_count": 5,
     "metadata": {},
     "output_type": "execute_result"
    }
   ],
   "source": [
    "# ringkasan statistik dari kolom numerik\n",
    "df[nums].describe()"
   ]
  },
  {
   "cell_type": "code",
   "execution_count": 6,
   "id": "35cf9c74-c7a0-4312-9f45-83be29aa5cb9",
   "metadata": {},
   "outputs": [
    {
     "data": {
      "text/html": [
       "<div>\n",
       "<style scoped>\n",
       "    .dataframe tbody tr th:only-of-type {\n",
       "        vertical-align: middle;\n",
       "    }\n",
       "\n",
       "    .dataframe tbody tr th {\n",
       "        vertical-align: top;\n",
       "    }\n",
       "\n",
       "    .dataframe thead th {\n",
       "        text-align: right;\n",
       "    }\n",
       "</style>\n",
       "<table border=\"1\" class=\"dataframe\">\n",
       "  <thead>\n",
       "    <tr style=\"text-align: right;\">\n",
       "      <th></th>\n",
       "      <th>PreferredLoginDevice</th>\n",
       "      <th>PreferredPaymentMode</th>\n",
       "      <th>Gender</th>\n",
       "      <th>PreferedOrderCat</th>\n",
       "      <th>MaritalStatus</th>\n",
       "    </tr>\n",
       "  </thead>\n",
       "  <tbody>\n",
       "    <tr>\n",
       "      <th>count</th>\n",
       "      <td>5630</td>\n",
       "      <td>5630</td>\n",
       "      <td>5630</td>\n",
       "      <td>5630</td>\n",
       "      <td>5630</td>\n",
       "    </tr>\n",
       "    <tr>\n",
       "      <th>unique</th>\n",
       "      <td>3</td>\n",
       "      <td>7</td>\n",
       "      <td>2</td>\n",
       "      <td>6</td>\n",
       "      <td>3</td>\n",
       "    </tr>\n",
       "    <tr>\n",
       "      <th>top</th>\n",
       "      <td>Mobile Phone</td>\n",
       "      <td>Debit Card</td>\n",
       "      <td>Male</td>\n",
       "      <td>Laptop &amp; Accessory</td>\n",
       "      <td>Married</td>\n",
       "    </tr>\n",
       "    <tr>\n",
       "      <th>freq</th>\n",
       "      <td>2765</td>\n",
       "      <td>2314</td>\n",
       "      <td>3384</td>\n",
       "      <td>2050</td>\n",
       "      <td>2986</td>\n",
       "    </tr>\n",
       "  </tbody>\n",
       "</table>\n",
       "</div>"
      ],
      "text/plain": [
       "       PreferredLoginDevice PreferredPaymentMode Gender    PreferedOrderCat  \\\n",
       "count                  5630                 5630   5630                5630   \n",
       "unique                    3                    7      2                   6   \n",
       "top            Mobile Phone           Debit Card   Male  Laptop & Accessory   \n",
       "freq                   2765                 2314   3384                2050   \n",
       "\n",
       "       MaritalStatus  \n",
       "count           5630  \n",
       "unique             3  \n",
       "top          Married  \n",
       "freq            2986  "
      ]
     },
     "execution_count": 6,
     "metadata": {},
     "output_type": "execute_result"
    }
   ],
   "source": [
    "# categorical columns \n",
    "df[cats].describe()"
   ]
  },
  {
   "cell_type": "markdown",
   "id": "f6093c7c-cfa3-4e84-b15a-404a064e5f32",
   "metadata": {},
   "source": [
    "# Missing Data"
   ]
  },
  {
   "cell_type": "code",
   "execution_count": 7,
   "id": "a99b1baf-58a0-4d71-a856-113914160f04",
   "metadata": {},
   "outputs": [
    {
     "data": {
      "text/plain": [
       "CustomerID                       0\n",
       "Churn                            0\n",
       "Tenure                         264\n",
       "PreferredLoginDevice             0\n",
       "CityTier                         0\n",
       "WarehouseToHome                251\n",
       "PreferredPaymentMode             0\n",
       "Gender                           0\n",
       "HourSpendOnApp                 255\n",
       "NumberOfDeviceRegistered         0\n",
       "PreferedOrderCat                 0\n",
       "SatisfactionScore                0\n",
       "MaritalStatus                    0\n",
       "NumberOfAddress                  0\n",
       "Complain                         0\n",
       "OrderAmountHikeFromlastYear    265\n",
       "CouponUsed                     256\n",
       "OrderCount                     258\n",
       "DaySinceLastOrder              307\n",
       "CashbackAmount                   0\n",
       "dtype: int64"
      ]
     },
     "execution_count": 7,
     "metadata": {},
     "output_type": "execute_result"
    }
   ],
   "source": [
    "# jumlah entry NULL di setiap kolom\n",
    "df.isna().sum()"
   ]
  },
  {
   "cell_type": "markdown",
   "id": "440d005f-52d1-42dc-8c4a-4786abd53b98",
   "metadata": {},
   "source": [
    "jumlah data yang missing values cukup besar dengan jumlah data yang tidak besar sehingga kita menggunakan strategi imputasi dengan asumsi sebagai berikut:\n",
    "* `Tenure` \\: impute dengan nilai median (dari `df.describe` kita tau distribusinya skewed)\n",
    "* `WarehouseToHome` \\: impute dengan nilai median (dari `df.describe` kita tau distribusinya skewed)\n",
    "* `HourSpendOnApp` \\: impute dengan nilai modus\n",
    "* `OrderAmountHikeFromlastYear` \\: impute dengan nilai median (dari `df.describe` kita tau distribusinya skewed)\n",
    "* `CouponUsed` \\: impute dengan nilai median (dari `df.describe` kita tau distribusinya skewed)\n",
    "* `OrderCount` \\: impute dengan nilai median (dari `df.describe` kita tau distribusinya skewed)\n",
    "* `DaySinceLastOrder` \\: impute dengan nilai median (dari `df.describe` kita tau distribusinya skewed)"
   ]
  },
  {
   "cell_type": "code",
   "execution_count": 8,
   "id": "29874cfb-2aec-439a-88ba-5ba3b5666e9a",
   "metadata": {},
   "outputs": [],
   "source": [
    "# impute Tenure, WarehouseToHome, HourSpendOnApp, OrderAmountHikeFromlastYear, CouponUsed, OrderCount, dan DaySinceLastOrder\n",
    "df['Tenure'].fillna(df['Tenure'].median(), inplace=True)\n",
    "df['WarehouseToHome'].fillna(df['WarehouseToHome'].median(), inplace=True)\n",
    "df['HourSpendOnApp'].fillna(df['HourSpendOnApp'].median(), inplace=True)\n",
    "df['OrderAmountHikeFromlastYear'].fillna(df['OrderAmountHikeFromlastYear'].median(), inplace=True)\n",
    "df['OrderCount'].fillna(df['OrderCount'].median(), inplace=True)\n",
    "df['CouponUsed'].fillna(df['CouponUsed'].median(), inplace=True)\n",
    "df['DaySinceLastOrder'].fillna(df['DaySinceLastOrder'].median(), inplace=True)"
   ]
  },
  {
   "cell_type": "code",
   "execution_count": 9,
   "id": "81f68c12-a567-445b-8396-9503748159a1",
   "metadata": {},
   "outputs": [],
   "source": [
    "# Impute HourSpendOnApp dengan modus\n",
    "df['HourSpendOnApp'].fillna(df['HourSpendOnApp'].mode()[0], inplace=True)"
   ]
  },
  {
   "cell_type": "code",
   "execution_count": 10,
   "id": "1bb6ea78-023b-4aa5-a67b-30ea4ad06b3f",
   "metadata": {},
   "outputs": [
    {
     "data": {
      "text/plain": [
       "CustomerID                     0\n",
       "Churn                          0\n",
       "Tenure                         0\n",
       "PreferredLoginDevice           0\n",
       "CityTier                       0\n",
       "WarehouseToHome                0\n",
       "PreferredPaymentMode           0\n",
       "Gender                         0\n",
       "HourSpendOnApp                 0\n",
       "NumberOfDeviceRegistered       0\n",
       "PreferedOrderCat               0\n",
       "SatisfactionScore              0\n",
       "MaritalStatus                  0\n",
       "NumberOfAddress                0\n",
       "Complain                       0\n",
       "OrderAmountHikeFromlastYear    0\n",
       "CouponUsed                     0\n",
       "OrderCount                     0\n",
       "DaySinceLastOrder              0\n",
       "CashbackAmount                 0\n",
       "dtype: int64"
      ]
     },
     "execution_count": 10,
     "metadata": {},
     "output_type": "execute_result"
    }
   ],
   "source": [
    "# cek jumlah missing data setelah preprocessing\n",
    "df.isna().sum()"
   ]
  },
  {
   "cell_type": "markdown",
   "id": "b4afcad1-1459-44e9-a4e1-e3c75736d1e3",
   "metadata": {},
   "source": [
    "# Duplicated Data"
   ]
  },
  {
   "cell_type": "code",
   "execution_count": 11,
   "id": "03f5fbb3-c7c3-450a-8b82-ae04bdd58339",
   "metadata": {},
   "outputs": [
    {
     "data": {
      "text/plain": [
       "0"
      ]
     },
     "execution_count": 11,
     "metadata": {},
     "output_type": "execute_result"
    }
   ],
   "source": [
    "# cek jumlah duplicated rows dari semua kolom\n",
    "df.duplicated().sum()"
   ]
  },
  {
   "cell_type": "markdown",
   "id": "ed8ed90e-a73d-4967-b01c-f383e9f221f5",
   "metadata": {},
   "source": [
    "`Tidak terdapat data yang duplicate`"
   ]
  },
  {
   "cell_type": "markdown",
   "id": "9e27ec79-213a-481f-a894-c7617f9ad6db",
   "metadata": {},
   "source": [
    "# Outliers Handling"
   ]
  },
  {
   "cell_type": "markdown",
   "id": "9a2e8ffe-38b8-4b48-8cab-2b98575f4c1b",
   "metadata": {},
   "source": [
    "Pengamatan:\n",
    "* `Tenure` \\: dihapus\n",
    "* `WarehouseToHome` \\: tidak perlu dihapus\n",
    "* `HourSpendOnApp` \\: tidak perlu dihapus\n",
    "* `NumberOfDeviceRegistered` \\: tidak perlu dihapus\n",
    "* `NumberOfAddress` \\: dihapus\n",
    "* `OrderAmountHikeFromlastYear` \\: tidak perlu dihapus\n",
    "* `CouponUsed` \\: tidak perlu dihapus\n",
    "* `OrderCount` \\: tidak perlu dihapus\n",
    "* `DaySinceLastOrder` \\: tidak perlu dihapus\n",
    "* `CashbackAmount` \\: tidak perlu dihapus"
   ]
  },
  {
   "cell_type": "code",
   "execution_count": 12,
   "id": "c08989d7-fd3b-4a0a-afc2-86b235db6157",
   "metadata": {
    "tags": []
   },
   "outputs": [
    {
     "name": "stdout",
     "output_type": "stream",
     "text": [
      "Jumlah baris sebelum memfilter outlier: 5630\n",
      "Jumlah baris setelah memfilter outlier: 5622\n"
     ]
    }
   ],
   "source": [
    "print(f'Jumlah baris sebelum memfilter outlier: {len(df)}')\n",
    "\n",
    "filtered_entries = np.array([True] * len(df))\n",
    "\n",
    "for col in ['Tenure', 'NumberOfAddress']:\n",
    "    Q1 = df[col].quantile(0.25)\n",
    "    Q3 = df[col].quantile(0.75)\n",
    "    IQR = Q3 - Q1\n",
    "    low_limit = Q1 - (IQR * 1.5)\n",
    "    high_limit = Q3 + (IQR * 1.5)\n",
    "    filtered_entries = ((df[col] >= low_limit) & (df[col] <= high_limit)) & filtered_entries\n",
    "    \n",
    "df = df[filtered_entries] \n",
    "\n",
    "print(f'Jumlah baris setelah memfilter outlier: {len(df)}')"
   ]
  },
  {
   "cell_type": "markdown",
   "id": "0e589ce9-d5b0-475d-89a2-8f2660790701",
   "metadata": {},
   "source": [
    "# Feature Transformation"
   ]
  },
  {
   "cell_type": "markdown",
   "id": "edf45ec5-c63b-4735-b436-fb3f7c064ab7",
   "metadata": {
    "tags": []
   },
   "source": [
    "1. Log transformation: `Tenure`, `WarehouseToHome`, `NumberOfAddress`, `OrderAmountHikeFromlastYear`, `CouponUsed`, `OrderCount`, dan `DaySinceLastOrder` \n",
    "2. Standardization: `HourSpendApp`, `NumberOfDeviceRegistered `, `SatisfactionScore`, dan  `CashbackAmount`"
   ]
  },
  {
   "cell_type": "markdown",
   "id": "a7d83ce0-4d34-4ed6-ae1a-1f4e0c06eed0",
   "metadata": {},
   "source": [
    "Namun `Tenure`, `CouponUsed`, `DaySinceLastOrder` memiliki data bernilai nol, maka akan dilakukan penambahan nilai setengah dari nilai terkecil selain nol."
   ]
  },
  {
   "cell_type": "code",
   "execution_count": 13,
   "id": "f1985f5e-0504-49c6-8d6e-f37f7000609b",
   "metadata": {},
   "outputs": [],
   "source": [
    "df['Tenure']= df['Tenure']+0.5\n",
    "df['CouponUsed']= df['CouponUsed']+0.5\n",
    "df['DaySinceLastOrder']= df['DaySinceLastOrder']+0.5"
   ]
  },
  {
   "cell_type": "markdown",
   "id": "5cc218a1-061a-4716-82c1-a2734e1ea4db",
   "metadata": {},
   "source": [
    "# Log/Exp Transformation"
   ]
  },
  {
   "cell_type": "code",
   "execution_count": 14,
   "id": "7af49f3b-9b98-4ed4-9ce7-db85305bb108",
   "metadata": {},
   "outputs": [
    {
     "data": {
      "image/png": "[encoded data removed]",
      "text/plain": [
       "<Figure size 1152x432 with 7 Axes>"
      ]
     },
     "metadata": {
      "needs_background": "light"
     },
     "output_type": "display_data"
    }
   ],
   "source": [
    "#distribusi nilai asli\n",
    "features = ['Tenure','WarehouseToHome','NumberOfAddress','OrderAmountHikeFromlastYear','CouponUsed','OrderCount', 'DaySinceLastOrder']\n",
    "plt.figure(figsize=(16, 6))\n",
    "for i in range(0, len(features)):\n",
    "    plt.subplot(3, 3, i+1)\n",
    "    sns.kdeplot(x=df[features[i]], color='green')\n",
    "    plt.xlabel(features[i])\n",
    "    plt.tight_layout()"
   ]
  },
  {
   "cell_type": "code",
   "execution_count": 15,
   "id": "c261cde6-67af-4d0b-b83c-e35921caa5ce",
   "metadata": {
    "tags": []
   },
   "outputs": [
    {
     "data": {
      "image/png": "[encoded data removed]",
      "text/plain": [
       "<Figure size 1152x432 with 7 Axes>"
      ]
     },
     "metadata": {
      "needs_background": "light"
     },
     "output_type": "display_data"
    }
   ],
   "source": [
    "# distribusi gaji (setelah log transformation)\n",
    "plt.figure(figsize=(16, 6))\n",
    "for i in range(0, len(features)):\n",
    "    plt.subplot(3, 3, i+1)\n",
    "    sns.kdeplot(x=np.log(df[features[i]]), color='green')\n",
    "    plt.xlabel(features[i])\n",
    "    plt.tight_layout()\n",
    "# lebih mendekati distribusi normal!"
   ]
  },
  {
   "cell_type": "code",
   "execution_count": 16,
   "id": "d7ab2397-36b8-46be-b226-66295b2fec93",
   "metadata": {},
   "outputs": [],
   "source": [
    "# kita tranformasi\n",
    "df['Tenure'] = np.log(df['Tenure'])\n",
    "df['WarehouseToHome'] = np.log(df['WarehouseToHome'])\n",
    "df['NumberOfAddress'] = np.log(df['NumberOfAddress'])\n",
    "df['OrderAmountHikeFromlastYear'] = np.log(df['OrderAmountHikeFromlastYear'])\n",
    "df['CouponUsed'] = np.log(df['CouponUsed'])\n",
    "df['OrderCount'] = np.log(df['OrderCount'])\n",
    "df['DaySinceLastOrder'] = np.log(df['DaySinceLastOrder'])"
   ]
  },
  {
   "cell_type": "markdown",
   "id": "8ec73f4a-3bc1-4d7f-8ece-66934f9a8a99",
   "metadata": {},
   "source": [
    "# Normalization/Standardization"
   ]
  },
  {
   "cell_type": "code",
   "execution_count": 17,
   "id": "def85b6e-c1a7-437e-ab23-8758dbca4b6b",
   "metadata": {},
   "outputs": [
    {
     "data": {
      "text/html": [
       "<div>\n",
       "<style scoped>\n",
       "    .dataframe tbody tr th:only-of-type {\n",
       "        vertical-align: middle;\n",
       "    }\n",
       "\n",
       "    .dataframe tbody tr th {\n",
       "        vertical-align: top;\n",
       "    }\n",
       "\n",
       "    .dataframe thead th {\n",
       "        text-align: right;\n",
       "    }\n",
       "</style>\n",
       "<table border=\"1\" class=\"dataframe\">\n",
       "  <thead>\n",
       "    <tr style=\"text-align: right;\">\n",
       "      <th></th>\n",
       "      <th>CustomerID</th>\n",
       "      <th>Churn</th>\n",
       "      <th>Tenure</th>\n",
       "      <th>CityTier</th>\n",
       "      <th>WarehouseToHome</th>\n",
       "      <th>HourSpendOnApp</th>\n",
       "      <th>NumberOfDeviceRegistered</th>\n",
       "      <th>SatisfactionScore</th>\n",
       "      <th>NumberOfAddress</th>\n",
       "      <th>Complain</th>\n",
       "      <th>OrderAmountHikeFromlastYear</th>\n",
       "      <th>CouponUsed</th>\n",
       "      <th>OrderCount</th>\n",
       "      <th>DaySinceLastOrder</th>\n",
       "      <th>CashbackAmount</th>\n",
       "    </tr>\n",
       "  </thead>\n",
       "  <tbody>\n",
       "    <tr>\n",
       "      <th>count</th>\n",
       "      <td>5622.000000</td>\n",
       "      <td>5622.000000</td>\n",
       "      <td>5622.000000</td>\n",
       "      <td>5622.000000</td>\n",
       "      <td>5622.000000</td>\n",
       "      <td>5622.000000</td>\n",
       "      <td>5622.000000</td>\n",
       "      <td>5622.000000</td>\n",
       "      <td>5622.000000</td>\n",
       "      <td>5622.000000</td>\n",
       "      <td>5622.000000</td>\n",
       "      <td>5622.000000</td>\n",
       "      <td>5622.000000</td>\n",
       "      <td>5622.000000</td>\n",
       "      <td>5622.000000</td>\n",
       "    </tr>\n",
       "    <tr>\n",
       "      <th>mean</th>\n",
       "      <td>52815.866418</td>\n",
       "      <td>0.168268</td>\n",
       "      <td>1.875704</td>\n",
       "      <td>1.654927</td>\n",
       "      <td>2.616845</td>\n",
       "      <td>2.934187</td>\n",
       "      <td>3.689968</td>\n",
       "      <td>3.067592</td>\n",
       "      <td>1.254831</td>\n",
       "      <td>0.284596</td>\n",
       "      <td>2.727294</td>\n",
       "      <td>0.527959</td>\n",
       "      <td>0.776407</td>\n",
       "      <td>1.294747</td>\n",
       "      <td>177.201853</td>\n",
       "    </tr>\n",
       "    <tr>\n",
       "      <th>std</th>\n",
       "      <td>1625.260979</td>\n",
       "      <td>0.374137</td>\n",
       "      <td>1.179605</td>\n",
       "      <td>0.915439</td>\n",
       "      <td>0.501227</td>\n",
       "      <td>0.705488</td>\n",
       "      <td>1.023702</td>\n",
       "      <td>1.380366</td>\n",
       "      <td>0.611662</td>\n",
       "      <td>0.451262</td>\n",
       "      <td>0.217625</td>\n",
       "      <td>0.735542</td>\n",
       "      <td>0.725769</td>\n",
       "      <td>0.868645</td>\n",
       "      <td>49.185508</td>\n",
       "    </tr>\n",
       "    <tr>\n",
       "      <th>min</th>\n",
       "      <td>50001.000000</td>\n",
       "      <td>0.000000</td>\n",
       "      <td>-0.693147</td>\n",
       "      <td>1.000000</td>\n",
       "      <td>1.609438</td>\n",
       "      <td>0.000000</td>\n",
       "      <td>1.000000</td>\n",
       "      <td>1.000000</td>\n",
       "      <td>0.000000</td>\n",
       "      <td>0.000000</td>\n",
       "      <td>2.397895</td>\n",
       "      <td>-0.693147</td>\n",
       "      <td>0.000000</td>\n",
       "      <td>-0.693147</td>\n",
       "      <td>0.000000</td>\n",
       "    </tr>\n",
       "    <tr>\n",
       "      <th>25%</th>\n",
       "      <td>51409.250000</td>\n",
       "      <td>0.000000</td>\n",
       "      <td>1.252763</td>\n",
       "      <td>1.000000</td>\n",
       "      <td>2.197225</td>\n",
       "      <td>2.000000</td>\n",
       "      <td>3.000000</td>\n",
       "      <td>2.000000</td>\n",
       "      <td>0.693147</td>\n",
       "      <td>0.000000</td>\n",
       "      <td>2.564949</td>\n",
       "      <td>0.405465</td>\n",
       "      <td>0.000000</td>\n",
       "      <td>0.916291</td>\n",
       "      <td>145.755000</td>\n",
       "    </tr>\n",
       "    <tr>\n",
       "      <th>50%</th>\n",
       "      <td>52815.500000</td>\n",
       "      <td>0.000000</td>\n",
       "      <td>2.251292</td>\n",
       "      <td>1.000000</td>\n",
       "      <td>2.639057</td>\n",
       "      <td>3.000000</td>\n",
       "      <td>4.000000</td>\n",
       "      <td>3.000000</td>\n",
       "      <td>1.098612</td>\n",
       "      <td>0.000000</td>\n",
       "      <td>2.708050</td>\n",
       "      <td>0.405465</td>\n",
       "      <td>0.693147</td>\n",
       "      <td>1.252763</td>\n",
       "      <td>163.230000</td>\n",
       "    </tr>\n",
       "    <tr>\n",
       "      <th>75%</th>\n",
       "      <td>54223.750000</td>\n",
       "      <td>0.000000</td>\n",
       "      <td>2.740840</td>\n",
       "      <td>3.000000</td>\n",
       "      <td>2.995732</td>\n",
       "      <td>3.000000</td>\n",
       "      <td>4.000000</td>\n",
       "      <td>4.000000</td>\n",
       "      <td>1.791759</td>\n",
       "      <td>1.000000</td>\n",
       "      <td>2.890372</td>\n",
       "      <td>0.916291</td>\n",
       "      <td>1.098612</td>\n",
       "      <td>2.014903</td>\n",
       "      <td>196.392500</td>\n",
       "    </tr>\n",
       "    <tr>\n",
       "      <th>max</th>\n",
       "      <td>55630.000000</td>\n",
       "      <td>1.000000</td>\n",
       "      <td>3.449988</td>\n",
       "      <td>3.000000</td>\n",
       "      <td>4.844187</td>\n",
       "      <td>5.000000</td>\n",
       "      <td>6.000000</td>\n",
       "      <td>5.000000</td>\n",
       "      <td>2.397895</td>\n",
       "      <td>1.000000</td>\n",
       "      <td>3.258097</td>\n",
       "      <td>2.803360</td>\n",
       "      <td>2.772589</td>\n",
       "      <td>3.839452</td>\n",
       "      <td>324.990000</td>\n",
       "    </tr>\n",
       "  </tbody>\n",
       "</table>\n",
       "</div>"
      ],
      "text/plain": [
       "         CustomerID        Churn       Tenure     CityTier  WarehouseToHome  \\\n",
       "count   5622.000000  5622.000000  5622.000000  5622.000000      5622.000000   \n",
       "mean   52815.866418     0.168268     1.875704     1.654927         2.616845   \n",
       "std     1625.260979     0.374137     1.179605     0.915439         0.501227   \n",
       "min    50001.000000     0.000000    -0.693147     1.000000         1.609438   \n",
       "25%    51409.250000     0.000000     1.252763     1.000000         2.197225   \n",
       "50%    52815.500000     0.000000     2.251292     1.000000         2.639057   \n",
       "75%    54223.750000     0.000000     2.740840     3.000000         2.995732   \n",
       "max    55630.000000     1.000000     3.449988     3.000000         4.844187   \n",
       "\n",
       "       HourSpendOnApp  NumberOfDeviceRegistered  SatisfactionScore  \\\n",
       "count     5622.000000               5622.000000        5622.000000   \n",
       "mean         2.934187                  3.689968           3.067592   \n",
       "std          0.705488                  1.023702           1.380366   \n",
       "min          0.000000                  1.000000           1.000000   \n",
       "25%          2.000000                  3.000000           2.000000   \n",
       "50%          3.000000                  4.000000           3.000000   \n",
       "75%          3.000000                  4.000000           4.000000   \n",
       "max          5.000000                  6.000000           5.000000   \n",
       "\n",
       "       NumberOfAddress     Complain  OrderAmountHikeFromlastYear   CouponUsed  \\\n",
       "count      5622.000000  5622.000000                  5622.000000  5622.000000   \n",
       "mean          1.254831     0.284596                     2.727294     0.527959   \n",
       "std           0.611662     0.451262                     0.217625     0.735542   \n",
       "min           0.000000     0.000000                     2.397895    -0.693147   \n",
       "25%           0.693147     0.000000                     2.564949     0.405465   \n",
       "50%           1.098612     0.000000                     2.708050     0.405465   \n",
       "75%           1.791759     1.000000                     2.890372     0.916291   \n",
       "max           2.397895     1.000000                     3.258097     2.803360   \n",
       "\n",
       "        OrderCount  DaySinceLastOrder  CashbackAmount  \n",
       "count  5622.000000        5622.000000     5622.000000  \n",
       "mean      0.776407           1.294747      177.201853  \n",
       "std       0.725769           0.868645       49.185508  \n",
       "min       0.000000          -0.693147        0.000000  \n",
       "25%       0.000000           0.916291      145.755000  \n",
       "50%       0.693147           1.252763      163.230000  \n",
       "75%       1.098612           2.014903      196.392500  \n",
       "max       2.772589           3.839452      324.990000  "
      ]
     },
     "execution_count": 17,
     "metadata": {},
     "output_type": "execute_result"
    }
   ],
   "source": [
    "df.describe()"
   ]
  },
  {
   "cell_type": "code",
   "execution_count": 18,
   "id": "ab8f4d67-b999-4de1-b15e-66d2fc31599a",
   "metadata": {},
   "outputs": [],
   "source": [
    "from sklearn.preprocessing import StandardScaler\n",
    "\n",
    "#standarisasi (karena distribusi datanya sudah mendekati normal)\n",
    "df['HourSpendOnApp'] = StandardScaler().fit_transform(df['HourSpendOnApp'].values.reshape(len(df), 1))\n",
    "df['NumberOfDeviceRegistered'] = StandardScaler().fit_transform(df['NumberOfDeviceRegistered'].values.reshape(len(df), 1))\n",
    "df['SatisfactionScore'] = StandardScaler().fit_transform(df['SatisfactionScore'].values.reshape(len(df), 1))\n",
    "df['CashbackAmount_std'] = StandardScaler().fit_transform(df['CashbackAmount'].values.reshape(len(df), 1))"
   ]
  },
  {
   "cell_type": "code",
   "execution_count": 19,
   "id": "02f61ca5-704d-44e1-a1f4-a28a43eb7f0e",
   "metadata": {
    "tags": []
   },
   "outputs": [
    {
     "data": {
      "text/html": [
       "<div>\n",
       "<style scoped>\n",
       "    .dataframe tbody tr th:only-of-type {\n",
       "        vertical-align: middle;\n",
       "    }\n",
       "\n",
       "    .dataframe tbody tr th {\n",
       "        vertical-align: top;\n",
       "    }\n",
       "\n",
       "    .dataframe thead th {\n",
       "        text-align: right;\n",
       "    }\n",
       "</style>\n",
       "<table border=\"1\" class=\"dataframe\">\n",
       "  <thead>\n",
       "    <tr style=\"text-align: right;\">\n",
       "      <th></th>\n",
       "      <th>CustomerID</th>\n",
       "      <th>Churn</th>\n",
       "      <th>Tenure</th>\n",
       "      <th>CityTier</th>\n",
       "      <th>WarehouseToHome</th>\n",
       "      <th>HourSpendOnApp</th>\n",
       "      <th>NumberOfDeviceRegistered</th>\n",
       "      <th>SatisfactionScore</th>\n",
       "      <th>NumberOfAddress</th>\n",
       "      <th>Complain</th>\n",
       "      <th>OrderAmountHikeFromlastYear</th>\n",
       "      <th>CouponUsed</th>\n",
       "      <th>OrderCount</th>\n",
       "      <th>DaySinceLastOrder</th>\n",
       "      <th>CashbackAmount</th>\n",
       "      <th>CashbackAmount_std</th>\n",
       "    </tr>\n",
       "  </thead>\n",
       "  <tbody>\n",
       "    <tr>\n",
       "      <th>count</th>\n",
       "      <td>5622.000000</td>\n",
       "      <td>5622.000000</td>\n",
       "      <td>5622.000000</td>\n",
       "      <td>5622.000000</td>\n",
       "      <td>5622.000000</td>\n",
       "      <td>5.622000e+03</td>\n",
       "      <td>5.622000e+03</td>\n",
       "      <td>5.622000e+03</td>\n",
       "      <td>5622.000000</td>\n",
       "      <td>5622.000000</td>\n",
       "      <td>5622.000000</td>\n",
       "      <td>5622.000000</td>\n",
       "      <td>5622.000000</td>\n",
       "      <td>5622.000000</td>\n",
       "      <td>5622.000000</td>\n",
       "      <td>5.622000e+03</td>\n",
       "    </tr>\n",
       "    <tr>\n",
       "      <th>mean</th>\n",
       "      <td>52815.866418</td>\n",
       "      <td>0.168268</td>\n",
       "      <td>1.875704</td>\n",
       "      <td>1.654927</td>\n",
       "      <td>2.616845</td>\n",
       "      <td>1.415984e-14</td>\n",
       "      <td>5.875098e-15</td>\n",
       "      <td>5.766329e-16</td>\n",
       "      <td>1.254831</td>\n",
       "      <td>0.284596</td>\n",
       "      <td>2.727294</td>\n",
       "      <td>0.527959</td>\n",
       "      <td>0.776407</td>\n",
       "      <td>1.294747</td>\n",
       "      <td>177.201853</td>\n",
       "      <td>-1.451317e-16</td>\n",
       "    </tr>\n",
       "    <tr>\n",
       "      <th>std</th>\n",
       "      <td>1625.260979</td>\n",
       "      <td>0.374137</td>\n",
       "      <td>1.179605</td>\n",
       "      <td>0.915439</td>\n",
       "      <td>0.501227</td>\n",
       "      <td>1.000089e+00</td>\n",
       "      <td>1.000089e+00</td>\n",
       "      <td>1.000089e+00</td>\n",
       "      <td>0.611662</td>\n",
       "      <td>0.451262</td>\n",
       "      <td>0.217625</td>\n",
       "      <td>0.735542</td>\n",
       "      <td>0.725769</td>\n",
       "      <td>0.868645</td>\n",
       "      <td>49.185508</td>\n",
       "      <td>1.000089e+00</td>\n",
       "    </tr>\n",
       "    <tr>\n",
       "      <th>min</th>\n",
       "      <td>50001.000000</td>\n",
       "      <td>0.000000</td>\n",
       "      <td>-0.693147</td>\n",
       "      <td>1.000000</td>\n",
       "      <td>1.609438</td>\n",
       "      <td>-4.159457e+00</td>\n",
       "      <td>-2.627921e+00</td>\n",
       "      <td>-1.497990e+00</td>\n",
       "      <td>0.000000</td>\n",
       "      <td>0.000000</td>\n",
       "      <td>2.397895</td>\n",
       "      <td>-0.693147</td>\n",
       "      <td>0.000000</td>\n",
       "      <td>-0.693147</td>\n",
       "      <td>0.000000</td>\n",
       "      <td>-3.603045e+00</td>\n",
       "    </tr>\n",
       "    <tr>\n",
       "      <th>25%</th>\n",
       "      <td>51409.250000</td>\n",
       "      <td>0.000000</td>\n",
       "      <td>1.252763</td>\n",
       "      <td>1.000000</td>\n",
       "      <td>2.197225</td>\n",
       "      <td>-1.324289e+00</td>\n",
       "      <td>-6.740530e-01</td>\n",
       "      <td>-7.734806e-01</td>\n",
       "      <td>0.693147</td>\n",
       "      <td>0.000000</td>\n",
       "      <td>2.564949</td>\n",
       "      <td>0.405465</td>\n",
       "      <td>0.000000</td>\n",
       "      <td>0.916291</td>\n",
       "      <td>145.755000</td>\n",
       "      <td>-6.394089e-01</td>\n",
       "    </tr>\n",
       "    <tr>\n",
       "      <th>50%</th>\n",
       "      <td>52815.500000</td>\n",
       "      <td>0.000000</td>\n",
       "      <td>2.251292</td>\n",
       "      <td>1.000000</td>\n",
       "      <td>2.639057</td>\n",
       "      <td>9.329528e-02</td>\n",
       "      <td>3.028808e-01</td>\n",
       "      <td>-4.897078e-02</td>\n",
       "      <td>1.098612</td>\n",
       "      <td>0.000000</td>\n",
       "      <td>2.708050</td>\n",
       "      <td>0.405465</td>\n",
       "      <td>0.693147</td>\n",
       "      <td>1.252763</td>\n",
       "      <td>163.230000</td>\n",
       "      <td>-2.840897e-01</td>\n",
       "    </tr>\n",
       "    <tr>\n",
       "      <th>75%</th>\n",
       "      <td>54223.750000</td>\n",
       "      <td>0.000000</td>\n",
       "      <td>2.740840</td>\n",
       "      <td>3.000000</td>\n",
       "      <td>2.995732</td>\n",
       "      <td>9.329528e-02</td>\n",
       "      <td>3.028808e-01</td>\n",
       "      <td>6.755391e-01</td>\n",
       "      <td>1.791759</td>\n",
       "      <td>1.000000</td>\n",
       "      <td>2.890372</td>\n",
       "      <td>0.916291</td>\n",
       "      <td>1.098612</td>\n",
       "      <td>2.014903</td>\n",
       "      <td>196.392500</td>\n",
       "      <td>3.902034e-01</td>\n",
       "    </tr>\n",
       "    <tr>\n",
       "      <th>max</th>\n",
       "      <td>55630.000000</td>\n",
       "      <td>1.000000</td>\n",
       "      <td>3.449988</td>\n",
       "      <td>3.000000</td>\n",
       "      <td>4.844187</td>\n",
       "      <td>2.928463e+00</td>\n",
       "      <td>2.256748e+00</td>\n",
       "      <td>1.400049e+00</td>\n",
       "      <td>2.397895</td>\n",
       "      <td>1.000000</td>\n",
       "      <td>3.258097</td>\n",
       "      <td>2.803360</td>\n",
       "      <td>2.772589</td>\n",
       "      <td>3.839452</td>\n",
       "      <td>324.990000</td>\n",
       "      <td>3.004976e+00</td>\n",
       "    </tr>\n",
       "  </tbody>\n",
       "</table>\n",
       "</div>"
      ],
      "text/plain": [
       "         CustomerID        Churn       Tenure     CityTier  WarehouseToHome  \\\n",
       "count   5622.000000  5622.000000  5622.000000  5622.000000      5622.000000   \n",
       "mean   52815.866418     0.168268     1.875704     1.654927         2.616845   \n",
       "std     1625.260979     0.374137     1.179605     0.915439         0.501227   \n",
       "min    50001.000000     0.000000    -0.693147     1.000000         1.609438   \n",
       "25%    51409.250000     0.000000     1.252763     1.000000         2.197225   \n",
       "50%    52815.500000     0.000000     2.251292     1.000000         2.639057   \n",
       "75%    54223.750000     0.000000     2.740840     3.000000         2.995732   \n",
       "max    55630.000000     1.000000     3.449988     3.000000         4.844187   \n",
       "\n",
       "       HourSpendOnApp  NumberOfDeviceRegistered  SatisfactionScore  \\\n",
       "count    5.622000e+03              5.622000e+03       5.622000e+03   \n",
       "mean     1.415984e-14              5.875098e-15       5.766329e-16   \n",
       "std      1.000089e+00              1.000089e+00       1.000089e+00   \n",
       "min     -4.159457e+00             -2.627921e+00      -1.497990e+00   \n",
       "25%     -1.324289e+00             -6.740530e-01      -7.734806e-01   \n",
       "50%      9.329528e-02              3.028808e-01      -4.897078e-02   \n",
       "75%      9.329528e-02              3.028808e-01       6.755391e-01   \n",
       "max      2.928463e+00              2.256748e+00       1.400049e+00   \n",
       "\n",
       "       NumberOfAddress     Complain  OrderAmountHikeFromlastYear   CouponUsed  \\\n",
       "count      5622.000000  5622.000000                  5622.000000  5622.000000   \n",
       "mean          1.254831     0.284596                     2.727294     0.527959   \n",
       "std           0.611662     0.451262                     0.217625     0.735542   \n",
       "min           0.000000     0.000000                     2.397895    -0.693147   \n",
       "25%           0.693147     0.000000                     2.564949     0.405465   \n",
       "50%           1.098612     0.000000                     2.708050     0.405465   \n",
       "75%           1.791759     1.000000                     2.890372     0.916291   \n",
       "max           2.397895     1.000000                     3.258097     2.803360   \n",
       "\n",
       "        OrderCount  DaySinceLastOrder  CashbackAmount  CashbackAmount_std  \n",
       "count  5622.000000        5622.000000     5622.000000        5.622000e+03  \n",
       "mean      0.776407           1.294747      177.201853       -1.451317e-16  \n",
       "std       0.725769           0.868645       49.185508        1.000089e+00  \n",
       "min       0.000000          -0.693147        0.000000       -3.603045e+00  \n",
       "25%       0.000000           0.916291      145.755000       -6.394089e-01  \n",
       "50%       0.693147           1.252763      163.230000       -2.840897e-01  \n",
       "75%       1.098612           2.014903      196.392500        3.902034e-01  \n",
       "max       2.772589           3.839452      324.990000        3.004976e+00  "
      ]
     },
     "execution_count": 19,
     "metadata": {},
     "output_type": "execute_result"
    }
   ],
   "source": [
    "# cek keberhasilan feature transformation\n",
    "df.describe()"
   ]
  },
  {
   "cell_type": "markdown",
   "id": "3c3cff67-9748-4400-a76e-678ff9616a9b",
   "metadata": {},
   "source": [
    "# Feature Encoding"
   ]
  },
  {
   "cell_type": "code",
   "execution_count": 20,
   "id": "8d3429ee-01b1-4256-8cbb-f94c828f3541",
   "metadata": {},
   "outputs": [
    {
     "name": "stdout",
     "output_type": "stream",
     "text": [
      "value counts of column PreferredLoginDevice\n",
      "Mobile Phone    2762\n",
      "Computer        1630\n",
      "Phone           1230\n",
      "Name: PreferredLoginDevice, dtype: int64\n",
      "------------------------------ \n",
      "\n",
      "value counts of column PreferredPaymentMode\n",
      "Debit Card          2308\n",
      "Credit Card         1501\n",
      "E wallet             614\n",
      "UPI                  414\n",
      "COD                  363\n",
      "CC                   273\n",
      "Cash on Delivery     149\n",
      "Name: PreferredPaymentMode, dtype: int64\n",
      "------------------------------ \n",
      "\n",
      "value counts of column Gender\n",
      "Male      3378\n",
      "Female    2244\n",
      "Name: Gender, dtype: int64\n",
      "------------------------------ \n",
      "\n",
      "value counts of column PreferedOrderCat\n",
      "Laptop & Accessory    2046\n",
      "Mobile Phone          1270\n",
      "Fashion                826\n",
      "Mobile                 808\n",
      "Grocery                408\n",
      "Others                 264\n",
      "Name: PreferedOrderCat, dtype: int64\n",
      "------------------------------ \n",
      "\n",
      "value counts of column MaritalStatus\n",
      "Married     2984\n",
      "Single      1792\n",
      "Divorced     846\n",
      "Name: MaritalStatus, dtype: int64\n",
      "------------------------------ \n",
      "\n"
     ]
    }
   ],
   "source": [
    "cats_updated = ['PreferredLoginDevice', 'PreferredPaymentMode', 'Gender', 'PreferedOrderCat', 'MaritalStatus']\n",
    "\n",
    "for col in cats_updated:\n",
    "  print(f'value counts of column {col}')\n",
    "  print(df[col].value_counts())\n",
    "  print('---'*10, '\\n')"
   ]
  },
  {
   "cell_type": "markdown",
   "id": "1befe336-fbff-4656-b87e-6244898091f7",
   "metadata": {},
   "source": [
    "Data tidak sesuai (Mobile Phone = Phone, Credit Card = CC, dan COD = Cash on Delivery, Mobile Phone=Mobile) akan di rename"
   ]
  },
  {
   "cell_type": "code",
   "execution_count": 21,
   "id": "53f809ac-5e13-4d93-8f37-21bf33718c7d",
   "metadata": {},
   "outputs": [],
   "source": [
    "df['PreferredLoginDevice'].replace(['Phone'], 'Mobile Phone', inplace=True)\n",
    "df['PreferredPaymentMode'].replace(['CC'], 'Credit Card', inplace=True)\n",
    "df['PreferredPaymentMode'].replace(['Cash on Delivery'], 'COD', inplace=True)\n",
    "df['PreferedOrderCat'].replace(['Mobile'], 'Mobile Phone', inplace=True)"
   ]
  },
  {
   "cell_type": "code",
   "execution_count": 22,
   "id": "d10e8659-9969-4d76-8a9b-7b9228b51ddd",
   "metadata": {},
   "outputs": [
    {
     "name": "stdout",
     "output_type": "stream",
     "text": [
      "value counts of column PreferredLoginDevice\n",
      "Mobile Phone    3992\n",
      "Computer        1630\n",
      "Name: PreferredLoginDevice, dtype: int64\n",
      "------------------------------ \n",
      "\n",
      "value counts of column PreferredPaymentMode\n",
      "Debit Card     2308\n",
      "Credit Card    1774\n",
      "E wallet        614\n",
      "COD             512\n",
      "UPI             414\n",
      "Name: PreferredPaymentMode, dtype: int64\n",
      "------------------------------ \n",
      "\n",
      "value counts of column Gender\n",
      "Male      3378\n",
      "Female    2244\n",
      "Name: Gender, dtype: int64\n",
      "------------------------------ \n",
      "\n",
      "value counts of column PreferedOrderCat\n",
      "Mobile Phone          2078\n",
      "Laptop & Accessory    2046\n",
      "Fashion                826\n",
      "Grocery                408\n",
      "Others                 264\n",
      "Name: PreferedOrderCat, dtype: int64\n",
      "------------------------------ \n",
      "\n",
      "value counts of column MaritalStatus\n",
      "Married     2984\n",
      "Single      1792\n",
      "Divorced     846\n",
      "Name: MaritalStatus, dtype: int64\n",
      "------------------------------ \n",
      "\n"
     ]
    }
   ],
   "source": [
    "#cek ulang setelah rename\n",
    "cats_updated = ['PreferredLoginDevice', 'PreferredPaymentMode', 'Gender', 'PreferedOrderCat', 'MaritalStatus']\n",
    "\n",
    "for col in cats_updated:\n",
    "  print(f'value counts of column {col}')\n",
    "  print(df[col].value_counts())\n",
    "  print('---'*10, '\\n')"
   ]
  },
  {
   "cell_type": "markdown",
   "id": "185db40b-1d8b-4173-a82c-a21ffbb9cfdb",
   "metadata": {},
   "source": [
    "Strategi encoding \n",
    "* `PreferredLoginDevice`,, `Gender`, & `MaritalStatus`  \\: label encoding\n",
    "*  `PreferredPaymentMode` & `PreferredOrderCat` \\: one hot encoding"
   ]
  },
  {
   "cell_type": "code",
   "execution_count": 23,
   "id": "d5041c87-9ee5-488e-9a8b-97bb20330de1",
   "metadata": {
    "tags": []
   },
   "outputs": [],
   "source": [
    "mapping_LoginDevice = {\n",
    "    'Mobile Phone' : 0,\n",
    "    'Computer' : 1\n",
    "}\n",
    "\n",
    "mapping_MaritalStatus = {\n",
    "    'Married' : 0,\n",
    "    'Single' : 1,\n",
    "    'Divorced' : 2\n",
    "}\n",
    "\n",
    "mapping_Gender = {\n",
    "    'Male' : 0,\n",
    "    'Female' : 1\n",
    "}\n",
    "\n",
    "df['PreferredLoginDevice'] = df['PreferredLoginDevice'].map(mapping_LoginDevice)\n",
    "df['MaritalStatus'] = df['MaritalStatus'].map(mapping_MaritalStatus)\n",
    "df['Gender'] = df['Gender'].map(mapping_Gender)  "
   ]
  },
  {
   "cell_type": "code",
   "execution_count": 24,
   "id": "1b786b77-94bc-4454-bbc0-ec1793de47d6",
   "metadata": {},
   "outputs": [],
   "source": [
    "for cat in ['PreferredPaymentMode', 'PreferedOrderCat']:\n",
    "    onehots = pd.get_dummies(df[cat], prefix=cat)\n",
    "    df = df.join(onehots)"
   ]
  },
  {
   "cell_type": "code",
   "execution_count": 25,
   "id": "72bc8d96-3572-4499-9106-31cba9557058",
   "metadata": {},
   "outputs": [
    {
     "data": {
      "text/html": [
       "<div>\n",
       "<style scoped>\n",
       "    .dataframe tbody tr th:only-of-type {\n",
       "        vertical-align: middle;\n",
       "    }\n",
       "\n",
       "    .dataframe tbody tr th {\n",
       "        vertical-align: top;\n",
       "    }\n",
       "\n",
       "    .dataframe thead th {\n",
       "        text-align: right;\n",
       "    }\n",
       "</style>\n",
       "<table border=\"1\" class=\"dataframe\">\n",
       "  <thead>\n",
       "    <tr style=\"text-align: right;\">\n",
       "      <th></th>\n",
       "      <th>CustomerID</th>\n",
       "      <th>Churn</th>\n",
       "      <th>Tenure</th>\n",
       "      <th>PreferredLoginDevice</th>\n",
       "      <th>CityTier</th>\n",
       "      <th>WarehouseToHome</th>\n",
       "      <th>PreferredPaymentMode</th>\n",
       "      <th>Gender</th>\n",
       "      <th>HourSpendOnApp</th>\n",
       "      <th>NumberOfDeviceRegistered</th>\n",
       "      <th>...</th>\n",
       "      <th>PreferredPaymentMode_COD</th>\n",
       "      <th>PreferredPaymentMode_Credit Card</th>\n",
       "      <th>PreferredPaymentMode_Debit Card</th>\n",
       "      <th>PreferredPaymentMode_E wallet</th>\n",
       "      <th>PreferredPaymentMode_UPI</th>\n",
       "      <th>PreferedOrderCat_Fashion</th>\n",
       "      <th>PreferedOrderCat_Grocery</th>\n",
       "      <th>PreferedOrderCat_Laptop &amp; Accessory</th>\n",
       "      <th>PreferedOrderCat_Mobile Phone</th>\n",
       "      <th>PreferedOrderCat_Others</th>\n",
       "    </tr>\n",
       "  </thead>\n",
       "  <tbody>\n",
       "    <tr>\n",
       "      <th>0</th>\n",
       "      <td>50001</td>\n",
       "      <td>1</td>\n",
       "      <td>1.504077</td>\n",
       "      <td>0</td>\n",
       "      <td>3</td>\n",
       "      <td>1.791759</td>\n",
       "      <td>Debit Card</td>\n",
       "      <td>1</td>\n",
       "      <td>0.093295</td>\n",
       "      <td>-0.674053</td>\n",
       "      <td>...</td>\n",
       "      <td>0</td>\n",
       "      <td>0</td>\n",
       "      <td>1</td>\n",
       "      <td>0</td>\n",
       "      <td>0</td>\n",
       "      <td>0</td>\n",
       "      <td>0</td>\n",
       "      <td>1</td>\n",
       "      <td>0</td>\n",
       "      <td>0</td>\n",
       "    </tr>\n",
       "    <tr>\n",
       "      <th>1</th>\n",
       "      <td>50002</td>\n",
       "      <td>1</td>\n",
       "      <td>2.251292</td>\n",
       "      <td>0</td>\n",
       "      <td>1</td>\n",
       "      <td>2.079442</td>\n",
       "      <td>UPI</td>\n",
       "      <td>0</td>\n",
       "      <td>0.093295</td>\n",
       "      <td>0.302881</td>\n",
       "      <td>...</td>\n",
       "      <td>0</td>\n",
       "      <td>0</td>\n",
       "      <td>0</td>\n",
       "      <td>0</td>\n",
       "      <td>1</td>\n",
       "      <td>0</td>\n",
       "      <td>0</td>\n",
       "      <td>0</td>\n",
       "      <td>1</td>\n",
       "      <td>0</td>\n",
       "    </tr>\n",
       "    <tr>\n",
       "      <th>2</th>\n",
       "      <td>50003</td>\n",
       "      <td>1</td>\n",
       "      <td>2.251292</td>\n",
       "      <td>0</td>\n",
       "      <td>1</td>\n",
       "      <td>3.401197</td>\n",
       "      <td>Debit Card</td>\n",
       "      <td>0</td>\n",
       "      <td>-1.324289</td>\n",
       "      <td>0.302881</td>\n",
       "      <td>...</td>\n",
       "      <td>0</td>\n",
       "      <td>0</td>\n",
       "      <td>1</td>\n",
       "      <td>0</td>\n",
       "      <td>0</td>\n",
       "      <td>0</td>\n",
       "      <td>0</td>\n",
       "      <td>0</td>\n",
       "      <td>1</td>\n",
       "      <td>0</td>\n",
       "    </tr>\n",
       "    <tr>\n",
       "      <th>3</th>\n",
       "      <td>50004</td>\n",
       "      <td>1</td>\n",
       "      <td>-0.693147</td>\n",
       "      <td>0</td>\n",
       "      <td>3</td>\n",
       "      <td>2.708050</td>\n",
       "      <td>Debit Card</td>\n",
       "      <td>0</td>\n",
       "      <td>-1.324289</td>\n",
       "      <td>0.302881</td>\n",
       "      <td>...</td>\n",
       "      <td>0</td>\n",
       "      <td>0</td>\n",
       "      <td>1</td>\n",
       "      <td>0</td>\n",
       "      <td>0</td>\n",
       "      <td>0</td>\n",
       "      <td>0</td>\n",
       "      <td>1</td>\n",
       "      <td>0</td>\n",
       "      <td>0</td>\n",
       "    </tr>\n",
       "    <tr>\n",
       "      <th>4</th>\n",
       "      <td>50005</td>\n",
       "      <td>1</td>\n",
       "      <td>-0.693147</td>\n",
       "      <td>0</td>\n",
       "      <td>1</td>\n",
       "      <td>2.484907</td>\n",
       "      <td>Credit Card</td>\n",
       "      <td>0</td>\n",
       "      <td>0.093295</td>\n",
       "      <td>-0.674053</td>\n",
       "      <td>...</td>\n",
       "      <td>0</td>\n",
       "      <td>1</td>\n",
       "      <td>0</td>\n",
       "      <td>0</td>\n",
       "      <td>0</td>\n",
       "      <td>0</td>\n",
       "      <td>0</td>\n",
       "      <td>0</td>\n",
       "      <td>1</td>\n",
       "      <td>0</td>\n",
       "    </tr>\n",
       "  </tbody>\n",
       "</table>\n",
       "<p>5 rows × 31 columns</p>\n",
       "</div>"
      ],
      "text/plain": [
       "   CustomerID  Churn    Tenure  PreferredLoginDevice  CityTier  \\\n",
       "0       50001      1  1.504077                     0         3   \n",
       "1       50002      1  2.251292                     0         1   \n",
       "2       50003      1  2.251292                     0         1   \n",
       "3       50004      1 -0.693147                     0         3   \n",
       "4       50005      1 -0.693147                     0         1   \n",
       "\n",
       "   WarehouseToHome PreferredPaymentMode  Gender  HourSpendOnApp  \\\n",
       "0         1.791759           Debit Card       1        0.093295   \n",
       "1         2.079442                  UPI       0        0.093295   \n",
       "2         3.401197           Debit Card       0       -1.324289   \n",
       "3         2.708050           Debit Card       0       -1.324289   \n",
       "4         2.484907          Credit Card       0        0.093295   \n",
       "\n",
       "   NumberOfDeviceRegistered  ... PreferredPaymentMode_COD  \\\n",
       "0                 -0.674053  ...                        0   \n",
       "1                  0.302881  ...                        0   \n",
       "2                  0.302881  ...                        0   \n",
       "3                  0.302881  ...                        0   \n",
       "4                 -0.674053  ...                        0   \n",
       "\n",
       "   PreferredPaymentMode_Credit Card  PreferredPaymentMode_Debit Card  \\\n",
       "0                                 0                                1   \n",
       "1                                 0                                0   \n",
       "2                                 0                                1   \n",
       "3                                 0                                1   \n",
       "4                                 1                                0   \n",
       "\n",
       "   PreferredPaymentMode_E wallet  PreferredPaymentMode_UPI  \\\n",
       "0                              0                         0   \n",
       "1                              0                         1   \n",
       "2                              0                         0   \n",
       "3                              0                         0   \n",
       "4                              0                         0   \n",
       "\n",
       "   PreferedOrderCat_Fashion  PreferedOrderCat_Grocery  \\\n",
       "0                         0                         0   \n",
       "1                         0                         0   \n",
       "2                         0                         0   \n",
       "3                         0                         0   \n",
       "4                         0                         0   \n",
       "\n",
       "   PreferedOrderCat_Laptop & Accessory  PreferedOrderCat_Mobile Phone  \\\n",
       "0                                    1                              0   \n",
       "1                                    0                              1   \n",
       "2                                    0                              1   \n",
       "3                                    1                              0   \n",
       "4                                    0                              1   \n",
       "\n",
       "   PreferedOrderCat_Others  \n",
       "0                        0  \n",
       "1                        0  \n",
       "2                        0  \n",
       "3                        0  \n",
       "4                        0  \n",
       "\n",
       "[5 rows x 31 columns]"
      ]
     },
     "execution_count": 25,
     "metadata": {},
     "output_type": "execute_result"
    }
   ],
   "source": [
    "df.head()"
   ]
  },
  {
   "cell_type": "code",
   "execution_count": 26,
   "id": "501afc47-a978-45d6-a216-1c336a61565b",
   "metadata": {},
   "outputs": [
    {
     "name": "stdout",
     "output_type": "stream",
     "text": [
      "<class 'pandas.core.frame.DataFrame'>\n",
      "Int64Index: 5622 entries, 0 to 5629\n",
      "Data columns (total 31 columns):\n",
      " #   Column                               Non-Null Count  Dtype  \n",
      "---  ------                               --------------  -----  \n",
      " 0   CustomerID                           5622 non-null   int64  \n",
      " 1   Churn                                5622 non-null   int64  \n",
      " 2   Tenure                               5622 non-null   float64\n",
      " 3   PreferredLoginDevice                 5622 non-null   int64  \n",
      " 4   CityTier                             5622 non-null   int64  \n",
      " 5   WarehouseToHome                      5622 non-null   float64\n",
      " 6   PreferredPaymentMode                 5622 non-null   object \n",
      " 7   Gender                               5622 non-null   int64  \n",
      " 8   HourSpendOnApp                       5622 non-null   float64\n",
      " 9   NumberOfDeviceRegistered             5622 non-null   float64\n",
      " 10  PreferedOrderCat                     5622 non-null   object \n",
      " 11  SatisfactionScore                    5622 non-null   float64\n",
      " 12  MaritalStatus                        5622 non-null   int64  \n",
      " 13  NumberOfAddress                      5622 non-null   float64\n",
      " 14  Complain                             5622 non-null   int64  \n",
      " 15  OrderAmountHikeFromlastYear          5622 non-null   float64\n",
      " 16  CouponUsed                           5622 non-null   float64\n",
      " 17  OrderCount                           5622 non-null   float64\n",
      " 18  DaySinceLastOrder                    5622 non-null   float64\n",
      " 19  CashbackAmount                       5622 non-null   float64\n",
      " 20  CashbackAmount_std                   5622 non-null   float64\n",
      " 21  PreferredPaymentMode_COD             5622 non-null   uint8  \n",
      " 22  PreferredPaymentMode_Credit Card     5622 non-null   uint8  \n",
      " 23  PreferredPaymentMode_Debit Card      5622 non-null   uint8  \n",
      " 24  PreferredPaymentMode_E wallet        5622 non-null   uint8  \n",
      " 25  PreferredPaymentMode_UPI             5622 non-null   uint8  \n",
      " 26  PreferedOrderCat_Fashion             5622 non-null   uint8  \n",
      " 27  PreferedOrderCat_Grocery             5622 non-null   uint8  \n",
      " 28  PreferedOrderCat_Laptop & Accessory  5622 non-null   uint8  \n",
      " 29  PreferedOrderCat_Mobile Phone        5622 non-null   uint8  \n",
      " 30  PreferedOrderCat_Others              5622 non-null   uint8  \n",
      "dtypes: float64(12), int64(7), object(2), uint8(10)\n",
      "memory usage: 1.1+ MB\n"
     ]
    }
   ],
   "source": [
    "df.info()"
   ]
  },
  {
   "cell_type": "markdown",
   "id": "ef3d493b-22f6-409a-ac8f-1d5c5e9699e2",
   "metadata": {},
   "source": [
    "Semua kolom sudah bertipe numerical(float dan integer)"
   ]
  },
  {
   "cell_type": "markdown",
   "id": "5ce8b552-e569-42f2-a3a0-f2813b4a5364",
   "metadata": {
    "jp-MarkdownHeadingCollapsed": true,
    "tags": []
   },
   "source": [
    "# Feature Engineering"
   ]
  },
  {
   "cell_type": "markdown",
   "id": "f1c0478f-3ebf-4557-b544-efcc4f635b0c",
   "metadata": {
    "jp-MarkdownHeadingCollapsed": true,
    "tags": []
   },
   "source": [
    "# Feature Selection"
   ]
  },
  {
   "cell_type": "markdown",
   "id": "6f756e23-7261-4ef2-a334-4a51bf174591",
   "metadata": {},
   "source": [
    "* Beberapa *feature* memiliki korelasi lemah dengan *target*, mereka akan dipakai (`Complain`, `SatisfactionScore`, `NumberDeviceRegistered`, `CashbackAmount`, `DaySinceLastOrder`, dan `Tenure`)\n",
    "* Beberapa *feature* terlihat sama sekali tidak berkorelasi, mereka sebaiknya diabaikan (`OrderCount` & `CouponUsed`, `Tenure` & `CashbackAmount`, `DaySinceLastOrder` & `OrderCount`)"
   ]
  },
  {
   "cell_type": "code",
   "execution_count": 27,
   "id": "e9a0bad8-afc3-4600-a14a-f93eb71aa255",
   "metadata": {
    "tags": []
   },
   "outputs": [],
   "source": [
    "# drop kolom yang yang tidak relevan\n",
    "df = df.drop(columns=['CustomerID','PreferredLoginDevice', 'PreferedOrderCat', 'PreferredPaymentMode'])"
   ]
  },
  {
   "cell_type": "code",
   "execution_count": 28,
   "id": "4b86576e-0b51-47fb-83f3-9075da9ba7fd",
   "metadata": {},
   "outputs": [
    {
     "name": "stdout",
     "output_type": "stream",
     "text": [
      "<class 'pandas.core.frame.DataFrame'>\n",
      "Int64Index: 5622 entries, 0 to 5629\n",
      "Data columns (total 27 columns):\n",
      " #   Column                               Non-Null Count  Dtype  \n",
      "---  ------                               --------------  -----  \n",
      " 0   Churn                                5622 non-null   int64  \n",
      " 1   Tenure                               5622 non-null   float64\n",
      " 2   CityTier                             5622 non-null   int64  \n",
      " 3   WarehouseToHome                      5622 non-null   float64\n",
      " 4   Gender                               5622 non-null   int64  \n",
      " 5   HourSpendOnApp                       5622 non-null   float64\n",
      " 6   NumberOfDeviceRegistered             5622 non-null   float64\n",
      " 7   SatisfactionScore                    5622 non-null   float64\n",
      " 8   MaritalStatus                        5622 non-null   int64  \n",
      " 9   NumberOfAddress                      5622 non-null   float64\n",
      " 10  Complain                             5622 non-null   int64  \n",
      " 11  OrderAmountHikeFromlastYear          5622 non-null   float64\n",
      " 12  CouponUsed                           5622 non-null   float64\n",
      " 13  OrderCount                           5622 non-null   float64\n",
      " 14  DaySinceLastOrder                    5622 non-null   float64\n",
      " 15  CashbackAmount                       5622 non-null   float64\n",
      " 16  CashbackAmount_std                   5622 non-null   float64\n",
      " 17  PreferredPaymentMode_COD             5622 non-null   uint8  \n",
      " 18  PreferredPaymentMode_Credit Card     5622 non-null   uint8  \n",
      " 19  PreferredPaymentMode_Debit Card      5622 non-null   uint8  \n",
      " 20  PreferredPaymentMode_E wallet        5622 non-null   uint8  \n",
      " 21  PreferredPaymentMode_UPI             5622 non-null   uint8  \n",
      " 22  PreferedOrderCat_Fashion             5622 non-null   uint8  \n",
      " 23  PreferedOrderCat_Grocery             5622 non-null   uint8  \n",
      " 24  PreferedOrderCat_Laptop & Accessory  5622 non-null   uint8  \n",
      " 25  PreferedOrderCat_Mobile Phone        5622 non-null   uint8  \n",
      " 26  PreferedOrderCat_Others              5622 non-null   uint8  \n",
      "dtypes: float64(12), int64(5), uint8(10)\n",
      "memory usage: 974.5 KB\n"
     ]
    }
   ],
   "source": [
    "df.info()"
   ]
  },
  {
   "cell_type": "markdown",
   "id": "3af55cac-86d6-4137-bd26-08b0f3a23802",
   "metadata": {
    "jp-MarkdownHeadingCollapsed": true,
    "tags": []
   },
   "source": [
    "# Feature Extraction"
   ]
  },
  {
   "cell_type": "code",
   "execution_count": 29,
   "id": "6cdef86d-93b3-4390-8511-adcde8930a8e",
   "metadata": {},
   "outputs": [
    {
     "name": "stdout",
     "output_type": "stream",
     "text": [
      "<class 'pandas.core.frame.DataFrame'>\n",
      "Int64Index: 5622 entries, 0 to 5629\n",
      "Data columns (total 28 columns):\n",
      " #   Column                               Non-Null Count  Dtype  \n",
      "---  ------                               --------------  -----  \n",
      " 0   Churn                                5622 non-null   int64  \n",
      " 1   Tenure                               5622 non-null   float64\n",
      " 2   CityTier                             5622 non-null   int64  \n",
      " 3   WarehouseToHome                      5622 non-null   float64\n",
      " 4   Gender                               5622 non-null   int64  \n",
      " 5   HourSpendOnApp                       5622 non-null   float64\n",
      " 6   NumberOfDeviceRegistered             5622 non-null   float64\n",
      " 7   SatisfactionScore                    5622 non-null   float64\n",
      " 8   MaritalStatus                        5622 non-null   int64  \n",
      " 9   NumberOfAddress                      5622 non-null   float64\n",
      " 10  Complain                             5622 non-null   int64  \n",
      " 11  OrderAmountHikeFromlastYear          5622 non-null   float64\n",
      " 12  CouponUsed                           5622 non-null   float64\n",
      " 13  OrderCount                           5622 non-null   float64\n",
      " 14  DaySinceLastOrder                    5622 non-null   float64\n",
      " 15  CashbackAmount                       5622 non-null   float64\n",
      " 16  CashbackAmount_std                   5622 non-null   float64\n",
      " 17  PreferredPaymentMode_COD             5622 non-null   uint8  \n",
      " 18  PreferredPaymentMode_Credit Card     5622 non-null   uint8  \n",
      " 19  PreferredPaymentMode_Debit Card      5622 non-null   uint8  \n",
      " 20  PreferredPaymentMode_E wallet        5622 non-null   uint8  \n",
      " 21  PreferredPaymentMode_UPI             5622 non-null   uint8  \n",
      " 22  PreferedOrderCat_Fashion             5622 non-null   uint8  \n",
      " 23  PreferedOrderCat_Grocery             5622 non-null   uint8  \n",
      " 24  PreferedOrderCat_Laptop & Accessory  5622 non-null   uint8  \n",
      " 25  PreferedOrderCat_Mobile Phone        5622 non-null   uint8  \n",
      " 26  PreferedOrderCat_Others              5622 non-null   uint8  \n",
      " 27  OtherRevenue                         5622 non-null   float64\n",
      "dtypes: float64(13), int64(5), uint8(10)\n",
      "memory usage: 1018.5 KB\n"
     ]
    }
   ],
   "source": [
    "df['OtherRevenue']= df['CashbackAmount']/0.05\n",
    "df.info()"
   ]
  },
  {
   "cell_type": "code",
   "execution_count": 30,
   "id": "199acdae-8cfa-4660-9699-4441014f6ea3",
   "metadata": {},
   "outputs": [
    {
     "data": {
      "text/plain": [
       "559"
      ]
     },
     "execution_count": 30,
     "metadata": {},
     "output_type": "execute_result"
    }
   ],
   "source": [
    "df.duplicated().sum()"
   ]
  },
  {
   "cell_type": "code",
   "execution_count": 31,
   "id": "949930db-75e1-43ec-9f0b-3a86f202c3a2",
   "metadata": {},
   "outputs": [
    {
     "name": "stdout",
     "output_type": "stream",
     "text": [
      "Jumlah row duplicated sebelum dihapus 559\n",
      "Jumlah row duplicated SETELAH dihapus 0\n"
     ]
    }
   ],
   "source": [
    "print(f'Jumlah row duplicated sebelum dihapus {df.duplicated().sum()}')\n",
    "df.drop_duplicates(inplace=True) # note: default-nya keep='First' (tidak perlu ditulis)\n",
    "print(f'Jumlah row duplicated SETELAH dihapus {df.duplicated().sum()}')"
   ]
  },
  {
   "cell_type": "code",
   "execution_count": 32,
   "id": "c7087771-499f-4749-80f6-e005dec446a5",
   "metadata": {},
   "outputs": [
    {
     "name": "stdout",
     "output_type": "stream",
     "text": [
      "<class 'pandas.core.frame.DataFrame'>\n",
      "Int64Index: 5063 entries, 0 to 5629\n",
      "Data columns (total 28 columns):\n",
      " #   Column                               Non-Null Count  Dtype  \n",
      "---  ------                               --------------  -----  \n",
      " 0   Churn                                5063 non-null   int64  \n",
      " 1   Tenure                               5063 non-null   float64\n",
      " 2   CityTier                             5063 non-null   int64  \n",
      " 3   WarehouseToHome                      5063 non-null   float64\n",
      " 4   Gender                               5063 non-null   int64  \n",
      " 5   HourSpendOnApp                       5063 non-null   float64\n",
      " 6   NumberOfDeviceRegistered             5063 non-null   float64\n",
      " 7   SatisfactionScore                    5063 non-null   float64\n",
      " 8   MaritalStatus                        5063 non-null   int64  \n",
      " 9   NumberOfAddress                      5063 non-null   float64\n",
      " 10  Complain                             5063 non-null   int64  \n",
      " 11  OrderAmountHikeFromlastYear          5063 non-null   float64\n",
      " 12  CouponUsed                           5063 non-null   float64\n",
      " 13  OrderCount                           5063 non-null   float64\n",
      " 14  DaySinceLastOrder                    5063 non-null   float64\n",
      " 15  CashbackAmount                       5063 non-null   float64\n",
      " 16  CashbackAmount_std                   5063 non-null   float64\n",
      " 17  PreferredPaymentMode_COD             5063 non-null   uint8  \n",
      " 18  PreferredPaymentMode_Credit Card     5063 non-null   uint8  \n",
      " 19  PreferredPaymentMode_Debit Card      5063 non-null   uint8  \n",
      " 20  PreferredPaymentMode_E wallet        5063 non-null   uint8  \n",
      " 21  PreferredPaymentMode_UPI             5063 non-null   uint8  \n",
      " 22  PreferedOrderCat_Fashion             5063 non-null   uint8  \n",
      " 23  PreferedOrderCat_Grocery             5063 non-null   uint8  \n",
      " 24  PreferedOrderCat_Laptop & Accessory  5063 non-null   uint8  \n",
      " 25  PreferedOrderCat_Mobile Phone        5063 non-null   uint8  \n",
      " 26  PreferedOrderCat_Others              5063 non-null   uint8  \n",
      " 27  OtherRevenue                         5063 non-null   float64\n",
      "dtypes: float64(13), int64(5), uint8(10)\n",
      "memory usage: 801.0 KB\n"
     ]
    }
   ],
   "source": [
    "df.info()"
   ]
  },
  {
   "cell_type": "code",
   "execution_count": 33,
   "id": "888e4ac6-05c6-4829-b9b8-91a4b9464619",
   "metadata": {},
   "outputs": [],
   "source": [
    "# drop kolom yang yang tidak relevan\n",
    "df = df.drop(columns=['OtherRevenue', 'CashbackAmount'])"
   ]
  },
  {
   "cell_type": "markdown",
   "id": "3824447c-7627-4c02-8498-e281217d87ba",
   "metadata": {},
   "source": [
    "# Split Data"
   ]
  },
  {
   "cell_type": "code",
   "execution_count": 34,
   "id": "def40be9-efd2-45ed-a12e-7ff46edb7551",
   "metadata": {
    "tags": []
   },
   "outputs": [],
   "source": [
    "X = df[['Tenure', 'CityTier', 'Gender','WarehouseToHome','NumberOfDeviceRegistered','SatisfactionScore', 'Complain','DaySinceLastOrder','CashbackAmount_std', \n",
    "        'HourSpendOnApp', 'NumberOfAddress', 'OrderAmountHikeFromlastYear','CouponUsed','OrderCount', 'PreferredPaymentMode_COD','PreferredPaymentMode_Credit Card',\n",
    "        'PreferredPaymentMode_Debit Card','PreferredPaymentMode_E wallet','PreferredPaymentMode_UPI', \n",
    "        'MaritalStatus', 'PreferedOrderCat_Fashion','PreferedOrderCat_Grocery', 'PreferedOrderCat_Laptop & Accessory','PreferedOrderCat_Mobile Phone','PreferedOrderCat_Others']]\n",
    "y = df[['Churn']]\n",
    "\n",
    "#Splitting the data into Train and Test\n",
    "from sklearn.model_selection import train_test_split\n",
    "Xtr, Xtest, ytr, ytest = train_test_split(X,y,test_size=0.3, random_state=123)"
   ]
  },
  {
   "cell_type": "code",
   "execution_count": 35,
   "id": "c1e9b0ed-d4c8-4dfa-ae1d-791706dc0e57",
   "metadata": {},
   "outputs": [
    {
     "name": "stdout",
     "output_type": "stream",
     "text": [
      "<class 'pandas.core.frame.DataFrame'>\n",
      "Int64Index: 3544 entries, 257 to 3869\n",
      "Data columns (total 25 columns):\n",
      " #   Column                               Non-Null Count  Dtype  \n",
      "---  ------                               --------------  -----  \n",
      " 0   Tenure                               3544 non-null   float64\n",
      " 1   CityTier                             3544 non-null   int64  \n",
      " 2   Gender                               3544 non-null   int64  \n",
      " 3   WarehouseToHome                      3544 non-null   float64\n",
      " 4   NumberOfDeviceRegistered             3544 non-null   float64\n",
      " 5   SatisfactionScore                    3544 non-null   float64\n",
      " 6   Complain                             3544 non-null   int64  \n",
      " 7   DaySinceLastOrder                    3544 non-null   float64\n",
      " 8   CashbackAmount_std                   3544 non-null   float64\n",
      " 9   HourSpendOnApp                       3544 non-null   float64\n",
      " 10  NumberOfAddress                      3544 non-null   float64\n",
      " 11  OrderAmountHikeFromlastYear          3544 non-null   float64\n",
      " 12  CouponUsed                           3544 non-null   float64\n",
      " 13  OrderCount                           3544 non-null   float64\n",
      " 14  PreferredPaymentMode_COD             3544 non-null   uint8  \n",
      " 15  PreferredPaymentMode_Credit Card     3544 non-null   uint8  \n",
      " 16  PreferredPaymentMode_Debit Card      3544 non-null   uint8  \n",
      " 17  PreferredPaymentMode_E wallet        3544 non-null   uint8  \n",
      " 18  PreferredPaymentMode_UPI             3544 non-null   uint8  \n",
      " 19  MaritalStatus                        3544 non-null   int64  \n",
      " 20  PreferedOrderCat_Fashion             3544 non-null   uint8  \n",
      " 21  PreferedOrderCat_Grocery             3544 non-null   uint8  \n",
      " 22  PreferedOrderCat_Laptop & Accessory  3544 non-null   uint8  \n",
      " 23  PreferedOrderCat_Mobile Phone        3544 non-null   uint8  \n",
      " 24  PreferedOrderCat_Others              3544 non-null   uint8  \n",
      "dtypes: float64(11), int64(4), uint8(10)\n",
      "memory usage: 477.6 KB\n"
     ]
    }
   ],
   "source": [
    "Xtr.info() "
   ]
  },
  {
   "cell_type": "markdown",
   "id": "eee27f5f-1212-4e08-bd78-22efb09b1e7d",
   "metadata": {
    "tags": []
   },
   "source": [
    "# Imbalanced Dataset\n",
    "Section ini hanya **hypothetical** saja (untuk demonstrasi metode handling data imbalance)"
   ]
  },
  {
   "cell_type": "code",
   "execution_count": 36,
   "id": "0162f176-de33-49a4-a2f6-38e218cdd31e",
   "metadata": {},
   "outputs": [
    {
     "data": {
      "text/plain": [
       "False    2936\n",
       "True      608\n",
       "Name: Churn_class, dtype: int64"
      ]
     },
     "execution_count": 36,
     "metadata": {},
     "output_type": "execute_result"
    }
   ],
   "source": [
    "# pembuatan binary label target\n",
    "ytr['Churn_class'] = ytr['Churn'] >=1\n",
    "ytr['Churn_class'].value_counts()"
   ]
  },
  {
   "cell_type": "code",
   "execution_count": 37,
   "id": "c73481d3-e0bb-49ec-8739-297906737522",
   "metadata": {
    "tags": []
   },
   "outputs": [
    {
     "name": "stdout",
     "output_type": "stream",
     "text": [
      "(3544, 25)\n",
      "(3544,)\n"
     ]
    }
   ],
   "source": [
    "# pemisahan features vs target\n",
    "X = Xtr[[col for col in Xtr.columns if (str(Xtr[col].dtype) != 'object') and col not in ['Churn', 'Churn_class']]]\n",
    "y = ytr['Churn_class'].values\n",
    "print(X.shape)\n",
    "print(y.shape)"
   ]
  },
  {
   "cell_type": "code",
   "execution_count": 38,
   "id": "21119c63-b2af-40b6-8ef2-cb86626f5d58",
   "metadata": {},
   "outputs": [
    {
     "name": "stdout",
     "output_type": "stream",
     "text": [
      "Requirement already satisfied: imblearn in c:\\users\\ardillasftr\\anaconda\\lib\\site-packages (0.0)\n",
      "Requirement already satisfied: imbalanced-learn in c:\\users\\ardillasftr\\anaconda\\lib\\site-packages (from imblearn) (0.9.0)\n",
      "Requirement already satisfied: scikit-learn>=1.0.1 in c:\\users\\ardillasftr\\anaconda\\lib\\site-packages (from imbalanced-learn->imblearn) (1.0.2)\n",
      "Requirement already satisfied: threadpoolctl>=2.0.0 in c:\\users\\ardillasftr\\anaconda\\lib\\site-packages (from imbalanced-learn->imblearn) (2.2.0)\n",
      "Requirement already satisfied: scipy>=1.1.0 in c:\\users\\ardillasftr\\anaconda\\lib\\site-packages (from imbalanced-learn->imblearn) (1.7.1)\n",
      "Requirement already satisfied: joblib>=0.11 in c:\\users\\ardillasftr\\anaconda\\lib\\site-packages (from imbalanced-learn->imblearn) (1.1.0)\n",
      "Requirement already satisfied: numpy>=1.14.6 in c:\\users\\ardillasftr\\anaconda\\lib\\site-packages (from imbalanced-learn->imblearn) (1.21.0)\n"
     ]
    }
   ],
   "source": [
    "!pip install imblearn"
   ]
  },
  {
   "cell_type": "code",
   "execution_count": 39,
   "id": "180aeccd-5b58-46f4-acae-f4897d9d9a6a",
   "metadata": {},
   "outputs": [],
   "source": [
    "from imblearn import under_sampling, over_sampling\n",
    "X_under, y_under = under_sampling.RandomUnderSampler(1).fit_resample(X, y)\n",
    "X_over, y_over = over_sampling.RandomOverSampler(1).fit_resample(X, y)\n",
    "X_over_SMOTE, y_over_SMOTE = over_sampling.SMOTE(1).fit_resample(X, y)"
   ]
  },
  {
   "cell_type": "code",
   "execution_count": 40,
   "id": "bfaff12a-ed38-4f1e-8c16-8ac4722c50e8",
   "metadata": {
    "tags": []
   },
   "outputs": [
    {
     "name": "stdout",
     "output_type": "stream",
     "text": [
      "Original\n",
      "False    2936\n",
      "True      608\n",
      "dtype: int64\n",
      "\n",
      "\n",
      "UNDERSAMPLING\n",
      "False    608\n",
      "True     608\n",
      "dtype: int64\n",
      "\n",
      "\n",
      "OVERSAMPLING\n",
      "True     2936\n",
      "False    2936\n",
      "dtype: int64\n",
      "\n",
      "\n",
      "SMOTE\n",
      "True     2936\n",
      "False    2936\n",
      "dtype: int64\n"
     ]
    }
   ],
   "source": [
    "print('Original')\n",
    "print(pd.Series(y).value_counts())\n",
    "print('\\n')\n",
    "print('UNDERSAMPLING')\n",
    "print(pd.Series(y_under).value_counts())\n",
    "print('\\n')\n",
    "print('OVERSAMPLING')\n",
    "print(pd.Series(y_over).value_counts())\n",
    "print('\\n')\n",
    "print('SMOTE')\n",
    "print(pd.Series(y_over_SMOTE).value_counts())"
   ]
  },
  {
   "cell_type": "markdown",
   "id": "f28f0b3b-e545-4c6c-9912-7a521e2a348b",
   "metadata": {},
   "source": [
    "Dataset yang akan digunakan berdasarkan SMOTE"
   ]
  },
  {
   "cell_type": "code",
   "execution_count": 41,
   "id": "a8e96476-800a-434b-a81c-3f3cba8d2f8a",
   "metadata": {},
   "outputs": [],
   "source": [
    "Xtrain=X_over_SMOTE.copy()\n",
    "ytrain=y_over_SMOTE.copy()"
   ]
  },
  {
   "cell_type": "code",
   "execution_count": 42,
   "id": "0051bb18-7908-40d1-b215-063b047678b2",
   "metadata": {},
   "outputs": [
    {
     "name": "stdout",
     "output_type": "stream",
     "text": [
      "<class 'pandas.core.frame.DataFrame'>\n",
      "RangeIndex: 5872 entries, 0 to 5871\n",
      "Data columns (total 25 columns):\n",
      " #   Column                               Non-Null Count  Dtype  \n",
      "---  ------                               --------------  -----  \n",
      " 0   Tenure                               5872 non-null   float64\n",
      " 1   CityTier                             5872 non-null   int64  \n",
      " 2   Gender                               5872 non-null   int64  \n",
      " 3   WarehouseToHome                      5872 non-null   float64\n",
      " 4   NumberOfDeviceRegistered             5872 non-null   float64\n",
      " 5   SatisfactionScore                    5872 non-null   float64\n",
      " 6   Complain                             5872 non-null   int64  \n",
      " 7   DaySinceLastOrder                    5872 non-null   float64\n",
      " 8   CashbackAmount_std                   5872 non-null   float64\n",
      " 9   HourSpendOnApp                       5872 non-null   float64\n",
      " 10  NumberOfAddress                      5872 non-null   float64\n",
      " 11  OrderAmountHikeFromlastYear          5872 non-null   float64\n",
      " 12  CouponUsed                           5872 non-null   float64\n",
      " 13  OrderCount                           5872 non-null   float64\n",
      " 14  PreferredPaymentMode_COD             5872 non-null   uint8  \n",
      " 15  PreferredPaymentMode_Credit Card     5872 non-null   uint8  \n",
      " 16  PreferredPaymentMode_Debit Card      5872 non-null   uint8  \n",
      " 17  PreferredPaymentMode_E wallet        5872 non-null   uint8  \n",
      " 18  PreferredPaymentMode_UPI             5872 non-null   uint8  \n",
      " 19  MaritalStatus                        5872 non-null   int64  \n",
      " 20  PreferedOrderCat_Fashion             5872 non-null   uint8  \n",
      " 21  PreferedOrderCat_Grocery             5872 non-null   uint8  \n",
      " 22  PreferedOrderCat_Laptop & Accessory  5872 non-null   uint8  \n",
      " 23  PreferedOrderCat_Mobile Phone        5872 non-null   uint8  \n",
      " 24  PreferedOrderCat_Others              5872 non-null   uint8  \n",
      "dtypes: float64(11), int64(4), uint8(10)\n",
      "memory usage: 745.6 KB\n"
     ]
    }
   ],
   "source": [
    "Xtrain.info()"
   ]
  },
  {
   "cell_type": "code",
   "execution_count": 43,
   "id": "17679916-ea45-4ab7-bc74-d22674dc86fe",
   "metadata": {},
   "outputs": [
    {
     "data": {
      "image/png": "[encoded data removed]",
      "text/plain": [
       "<Figure size 1152x720 with 15 Axes>"
      ]
     },
     "metadata": {
      "needs_background": "light"
     },
     "output_type": "display_data"
    },
    {
     "data": {
      "image/png": "[encoded data removed]",
      "text/plain": [
       "<Figure size 1152x720 with 15 Axes>"
      ]
     },
     "metadata": {
      "needs_background": "light"
     },
     "output_type": "display_data"
    }
   ],
   "source": [
    "#distribusi nilai asli\n",
    "c = [Xtrain,Xtest]\n",
    "for i in c:\n",
    "    features = ['Tenure','CityTier','WarehouseToHome','Gender','NumberOfDeviceRegistered','PreferedOrderCat_Fashion','PreferedOrderCat_Grocery',\n",
    "        'PreferedOrderCat_Laptop & Accessory','PreferedOrderCat_Mobile Phone','PreferedOrderCat_Others','SatisfactionScore','MaritalStatus',\n",
    "        'Complain','DaySinceLastOrder','CashbackAmount_std']\n",
    "    plt.figure(figsize=(16, 10))\n",
    "    for i in range(0, len(features)):\n",
    "        plt.subplot(6, 3, i+1)\n",
    "        sns.kdeplot(x=df[features[i]], color='green')\n",
    "        plt.xlabel(features[i])\n",
    "        plt.tight_layout()"
   ]
  },
  {
   "cell_type": "code",
   "execution_count": 44,
   "id": "5a7a3b78-111f-4473-8043-7ed01aff9433",
   "metadata": {},
   "outputs": [
    {
     "data": {
      "text/plain": [
       "(5872, 25)"
      ]
     },
     "execution_count": 44,
     "metadata": {},
     "output_type": "execute_result"
    }
   ],
   "source": [
    "Xtrain.shape"
   ]
  },
  {
   "cell_type": "code",
   "execution_count": 45,
   "id": "fd63356e-e86f-43cd-9ddc-dbf614df8ff7",
   "metadata": {},
   "outputs": [
    {
     "data": {
      "text/plain": [
       "(5872,)"
      ]
     },
     "execution_count": 45,
     "metadata": {},
     "output_type": "execute_result"
    }
   ],
   "source": [
    "ytrain.shape"
   ]
  },
  {
   "cell_type": "code",
   "execution_count": 46,
   "id": "cb51005d-823e-40ec-8618-97f290276f75",
   "metadata": {},
   "outputs": [
    {
     "data": {
      "text/plain": [
       "(1519, 25)"
      ]
     },
     "execution_count": 46,
     "metadata": {},
     "output_type": "execute_result"
    }
   ],
   "source": [
    "Xtest.shape"
   ]
  },
  {
   "cell_type": "code",
   "execution_count": 47,
   "id": "d00a7e35-eb91-4d38-b07b-b3cf2a560b87",
   "metadata": {},
   "outputs": [
    {
     "data": {
      "text/plain": [
       "(1519, 1)"
      ]
     },
     "execution_count": 47,
     "metadata": {},
     "output_type": "execute_result"
    }
   ],
   "source": [
    "ytest.shape"
   ]
  },
  {
   "cell_type": "markdown",
   "id": "816d2ce0-ea35-4168-8d59-566ab651fb2a",
   "metadata": {},
   "source": [
    "# kNN"
   ]
  },
  {
   "cell_type": "code",
   "execution_count": 48,
   "id": "80f9ae8e-1a21-456e-9764-df6a5c47da4c",
   "metadata": {},
   "outputs": [],
   "source": [
    "from sklearn.metrics import accuracy_score, precision_score, recall_score, f1_score, roc_auc_score, confusion_matrix\n",
    "import matplotlib.pyplot as plt\n",
    "\n",
    "def eval_classification(model):\n",
    "    y_pred = model.predict(Xtest)\n",
    "    y_pred_train = model.predict(Xtrain)\n",
    "    y_pred_proba = model.predict_proba(Xtest)\n",
    "    y_pred_proba_train = model.predict_proba(Xtrain)\n",
    "    \n",
    "    print(\"Accuracy (Test Set): %.2f\" % accuracy_score(ytest, y_pred))\n",
    "    print(\"Accuracy (Train Set): %.2f\" % accuracy_score(ytrain, y_pred_train))\n",
    "    \n",
    "    print(\"Precision (Test Set): %.2f\" % precision_score(ytest, y_pred))\n",
    "    print(\"Precision (Train Set): %.2f\" % precision_score(ytrain, y_pred_train))\n",
    "    \n",
    "    print(\"Recall (Test Set): %.2f\" % recall_score(ytest, y_pred))\n",
    "    print(\"Recall (Train Set): %.2f\" % recall_score(ytrain, y_pred_train))\n",
    "    \n",
    "    print(\"F1-Score (Test Set): %.2f\" % f1_score(ytest, y_pred))\n",
    "    print(\"F1-Score (Train Set): %.2f\" % f1_score(ytrain, y_pred_train))\n",
    "    \n",
    "    print(\"AUC (test-proba): %.2f\" % roc_auc_score(ytest, y_pred_proba[:, 1]))\n",
    "    print(\"AUC (train-proba): %.2f\" % roc_auc_score(ytrain, y_pred_proba_train[:, 1]))\n",
    "    \n",
    "    print(confusion_matrix(ytest, y_pred))\n",
    "#     print(\"AUC (test-label): %.2f\" % roc_auc_score(ytest, y_pred))\n",
    "#     print(\"AUC (train-label): %.2f\" % roc_auc_score(ytrain, y_pred_train))\n",
    "\n",
    "def show_feature_importance(model):\n",
    "    feat_importances = pd.Series(model.feature_importances_, index=X.columns)\n",
    "    ax = feat_importances.nlargest(25).plot(kind='barh', figsize=(10, 8))\n",
    "    ax.invert_yaxis()\n",
    "\n",
    "    plt.xlabel('score')\n",
    "    plt.ylabel('feature')\n",
    "    plt.title('feature importance score')\n",
    "\n",
    "def show_best_hyperparameter(model):\n",
    "    print(model.best_estimator_.get_params())"
   ]
  },
  {
   "cell_type": "code",
   "execution_count": 49,
   "id": "37bf1c54-a9fe-43a6-af17-dd22f03eee85",
   "metadata": {},
   "outputs": [
    {
     "name": "stdout",
     "output_type": "stream",
     "text": [
      "Accuracy (Test Set): 0.85\n",
      "Accuracy (Train Set): 0.94\n",
      "Precision (Test Set): 0.50\n",
      "Precision (Train Set): 0.90\n",
      "Recall (Test Set): 0.82\n",
      "Recall (Train Set): 1.00\n",
      "F1-Score (Test Set): 0.62\n",
      "F1-Score (Train Set): 0.95\n",
      "AUC (test-proba): 0.90\n",
      "AUC (train-proba): 1.00\n",
      "[[1095  193]\n",
      " [  41  190]]\n"
     ]
    }
   ],
   "source": [
    "from sklearn.neighbors import KNeighborsClassifier\n",
    "neigh = KNeighborsClassifier()\n",
    "neigh.fit(Xtrain, ytrain)\n",
    "\n",
    "y_pred = neigh.predict(Xtest)\n",
    "eval_classification(neigh)"
   ]
  },
  {
   "cell_type": "markdown",
   "id": "18975333-8b5d-4295-8d5a-fb63a1ab7bc5",
   "metadata": {
    "tags": []
   },
   "source": [
    "## Hyperparameter Tuning with RandomSearch"
   ]
  },
  {
   "cell_type": "code",
   "execution_count": 50,
   "id": "3f28bccc-8f60-47ce-8f70-36d6e74c0341",
   "metadata": {},
   "outputs": [
    {
     "name": "stdout",
     "output_type": "stream",
     "text": [
      "Accuracy (Test Set): 0.82\n",
      "Accuracy (Train Set): 0.92\n",
      "Precision (Test Set): 0.46\n",
      "Precision (Train Set): 0.87\n",
      "Recall (Test Set): 0.84\n",
      "Recall (Train Set): 1.00\n",
      "F1-Score (Test Set): 0.59\n",
      "F1-Score (Train Set): 0.93\n",
      "AUC (test-proba): 0.90\n",
      "AUC (train-proba): 0.99\n",
      "[[1058  230]\n",
      " [  37  194]]\n"
     ]
    }
   ],
   "source": [
    "from sklearn.model_selection import RandomizedSearchCV\n",
    "from scipy.stats import uniform\n",
    "from sklearn.neighbors import KNeighborsClassifier\n",
    "\n",
    "# List of hyperparameter\n",
    "leaf_size = list(range(1,50))\n",
    "n_neighbors = list(range(1,30))\n",
    "p=[1,2]\n",
    "algorithm = ['auto', 'ball_tree', 'kd_tree', 'brute']\n",
    "hyperparameters = dict(n_neighbors=n_neighbors, p=p, algorithm=algorithm)\n",
    "\n",
    "# Init model\n",
    "knn = KNeighborsClassifier()\n",
    "modelknn = RandomizedSearchCV(knn, hyperparameters, cv=5, random_state=123, scoring='recall')\n",
    "\n",
    "# Fit Model & Evaluasi\n",
    "modelknn.fit(Xtrain, ytrain)\n",
    "y_pred = modelknn.predict(Xtest)\n",
    "eval_classification(modelknn)"
   ]
  },
  {
   "cell_type": "code",
   "execution_count": 51,
   "id": "f2b6b941-6460-4d6b-93a6-c8c840eb0a9f",
   "metadata": {
    "tags": []
   },
   "outputs": [
    {
     "name": "stdout",
     "output_type": "stream",
     "text": [
      "Best leaf_size: 30\n",
      "Best n_neighbors: 9\n",
      "Best p: 2\n",
      "Best algorithm: kd_tree\n"
     ]
    }
   ],
   "source": [
    "print('Best leaf_size:', modelknn.best_estimator_.get_params()['leaf_size'])\n",
    "print('Best n_neighbors:', modelknn.best_estimator_.get_params()['n_neighbors'])\n",
    "print('Best p:', modelknn.best_estimator_.get_params()['p'])\n",
    "print('Best algorithm:', modelknn.best_estimator_.get_params()['algorithm'])"
   ]
  },
  {
   "cell_type": "code",
   "execution_count": 52,
   "id": "0ccb1a3f-1983-4fd0-8293-dd90d02e379d",
   "metadata": {},
   "outputs": [
    {
     "data": {
      "text/plain": [
       "{'algorithm': 'kd_tree',\n",
       " 'leaf_size': 30,\n",
       " 'metric': 'minkowski',\n",
       " 'metric_params': None,\n",
       " 'n_jobs': None,\n",
       " 'n_neighbors': 9,\n",
       " 'p': 2,\n",
       " 'weights': 'uniform'}"
      ]
     },
     "execution_count": 52,
     "metadata": {},
     "output_type": "execute_result"
    }
   ],
   "source": [
    "modelknn.best_estimator_.get_params()"
   ]
  },
  {
   "cell_type": "markdown",
   "id": "14f7aa0c-8926-48d6-b00d-6d27aa44aa92",
   "metadata": {
    "tags": []
   },
   "source": [
    "# Logistic Regression"
   ]
  },
  {
   "cell_type": "code",
   "execution_count": 53,
   "id": "1bd709c4-75f7-4220-aa5a-9fa8475fc0c8",
   "metadata": {
    "tags": []
   },
   "outputs": [
    {
     "name": "stdout",
     "output_type": "stream",
     "text": [
      "Accuracy (Test Set): 0.84\n",
      "Accuracy (Train Set): 0.86\n",
      "Precision (Test Set): 0.48\n",
      "Precision (Train Set): 0.86\n",
      "Recall (Test Set): 0.77\n",
      "Recall (Train Set): 0.85\n",
      "F1-Score (Test Set): 0.59\n",
      "F1-Score (Train Set): 0.85\n",
      "AUC (test-proba): 0.89\n",
      "AUC (train-proba): 0.93\n",
      "[[1092  196]\n",
      " [  53  178]]\n"
     ]
    }
   ],
   "source": [
    "from sklearn.linear_model import LogisticRegression\n",
    "lr = LogisticRegression(random_state=123)\n",
    "lr.fit(Xtrain, ytrain)\n",
    "eval_classification(lr) "
   ]
  },
  {
   "cell_type": "code",
   "execution_count": 54,
   "id": "ffb25649-30e9-4367-a680-7102e86e4343",
   "metadata": {},
   "outputs": [
    {
     "name": "stdout",
     "output_type": "stream",
     "text": [
      "Accuracy (Test Set): 0.84\n",
      "Accuracy (Train Set): 0.86\n",
      "Precision (Test Set): 0.47\n",
      "Precision (Train Set): 0.86\n",
      "Recall (Test Set): 0.77\n",
      "Recall (Train Set): 0.85\n",
      "F1-Score (Test Set): 0.59\n",
      "F1-Score (Train Set): 0.85\n",
      "AUC (test-proba): 0.89\n",
      "AUC (train-proba): 0.93\n",
      "[[1091  197]\n",
      " [  53  178]]\n"
     ]
    }
   ],
   "source": [
    "# tune hyperparam\n",
    "from sklearn.model_selection import RandomizedSearchCV, GridSearchCV\n",
    "\n",
    "penalty = ['l1', 'l2']\n",
    "C = [float(x) for x in np.linspace(0.01, 1, num = 30)]\n",
    "solver = ['newton-cg', 'sag', 'saga', 'lbfgs']\n",
    "hyperparams = dict(penalty=penalty, C=C, solver=solver)\n",
    "\n",
    "lr = LogisticRegression(random_state=123)\n",
    "gs = RandomizedSearchCV(lr, hyperparams, cv=5, scoring='recall')\n",
    "gs.fit(Xtrain, ytrain)\n",
    "eval_classification(gs)"
   ]
  },
  {
   "cell_type": "markdown",
   "id": "bac57949-45a3-47e3-b619-b9d9545dc449",
   "metadata": {
    "tags": []
   },
   "source": [
    "# Decision Tree"
   ]
  },
  {
   "cell_type": "code",
   "execution_count": 55,
   "id": "69b2f593-c3d5-4561-9f85-9b1baa73469b",
   "metadata": {},
   "outputs": [
    {
     "name": "stdout",
     "output_type": "stream",
     "text": [
      "Accuracy (Test Set): 0.91\n",
      "Accuracy (Train Set): 1.00\n",
      "Precision (Test Set): 0.68\n",
      "Precision (Train Set): 1.00\n",
      "Recall (Test Set): 0.77\n",
      "Recall (Train Set): 1.00\n",
      "F1-Score (Test Set): 0.73\n",
      "F1-Score (Train Set): 1.00\n",
      "AUC (test-proba): 0.86\n",
      "AUC (train-proba): 1.00\n",
      "[[1205   83]\n",
      " [  52  179]]\n"
     ]
    }
   ],
   "source": [
    "from sklearn.tree import DecisionTreeClassifier\n",
    "model = DecisionTreeClassifier(random_state=123)\n",
    "model.fit(Xtrain, ytrain)\n",
    "\n",
    "y_pred = model.predict(Xtest)\n",
    "eval_classification(model)"
   ]
  },
  {
   "cell_type": "code",
   "execution_count": 56,
   "id": "3081fa02-0dc2-43db-a87e-06a7ec2e7909",
   "metadata": {},
   "outputs": [
    {
     "name": "stdout",
     "output_type": "stream",
     "text": [
      "Accuracy (Test Set): 0.84\n",
      "Accuracy (Train Set): 0.94\n",
      "Precision (Test Set): 0.47\n",
      "Precision (Train Set): 0.94\n",
      "Recall (Test Set): 0.57\n",
      "Recall (Train Set): 0.93\n",
      "F1-Score (Test Set): 0.52\n",
      "F1-Score (Train Set): 0.94\n",
      "AUC (test-proba): 0.83\n",
      "AUC (train-proba): 0.99\n",
      "[[1143  145]\n",
      " [ 100  131]]\n"
     ]
    }
   ],
   "source": [
    "from sklearn.model_selection import RandomizedSearchCV\n",
    "from scipy.stats import uniform\n",
    "import numpy as np\n",
    "\n",
    "# List of hyperparameter\n",
    "max_depth = [int(x) for x in np.linspace(1, 150, num = 30)] \n",
    "min_samples_split = [10, 100]\n",
    "min_samples_leaf = [2, 4, 10]\n",
    "max_features = ['auto', 'sqrt'] \n",
    "ccp_alpha =[0.0]\n",
    "\n",
    "hyperparameters = dict(max_depth=max_depth, \n",
    "                       min_samples_split=min_samples_split, \n",
    "                       min_samples_leaf=min_samples_leaf,\n",
    "                       max_features=max_features,\n",
    "                       ccp_alpha=ccp_alpha\n",
    "                      )\n",
    "\n",
    "# Inisialisasi Model\n",
    "dt = DecisionTreeClassifier(random_state=123)\n",
    "dt = RandomizedSearchCV(dt, hyperparameters, cv=5, random_state=123, scoring='recall')\n",
    "dt.fit(Xtrain, ytrain)\n",
    "# Predict & Evaluation\n",
    "y_pred = dt.predict(Xtest)\n",
    "eval_classification(dt)"
   ]
  },
  {
   "cell_type": "markdown",
   "id": "76b6c242-ff86-4912-ac85-aab0ff3f3d77",
   "metadata": {
    "tags": []
   },
   "source": [
    "# Random Forest"
   ]
  },
  {
   "cell_type": "code",
   "execution_count": 57,
   "id": "d8b1fe61-5669-4660-a2ad-d422a9f1e46f",
   "metadata": {},
   "outputs": [
    {
     "name": "stdout",
     "output_type": "stream",
     "text": [
      "Accuracy (Test Set): 0.95\n",
      "Accuracy (Train Set): 1.00\n",
      "Precision (Test Set): 0.85\n",
      "Precision (Train Set): 1.00\n",
      "Recall (Test Set): 0.80\n",
      "Recall (Train Set): 1.00\n",
      "F1-Score (Test Set): 0.82\n",
      "F1-Score (Train Set): 1.00\n",
      "AUC (test-proba): 0.97\n",
      "AUC (train-proba): 1.00\n",
      "[[1255   33]\n",
      " [  47  184]]\n"
     ]
    }
   ],
   "source": [
    "from sklearn.ensemble import RandomForestClassifier\n",
    "rf = RandomForestClassifier(random_state=123)\n",
    "rf.fit(Xtrain,ytrain)\n",
    "eval_classification(rf)"
   ]
  },
  {
   "cell_type": "markdown",
   "id": "3f3924a7-2e08-4358-a305-670e0be09c5d",
   "metadata": {},
   "source": [
    "<b>Hyperparameter yang biasa di tuning pada Random Forest:</b> (<a href='https://scikit-learn.org/stable/modules/generated/sklearn.ensemble.RandomForestClassifier.html'>Dokumentasi Sklearn Random Forest</a>)\n",
    "- n_estimators: jumlah subtree yang akan dibangun\n",
    "- max_samples: Jumlah maksimal sampel pada masing-masing training subset (setelah proses bootstrap)\n",
    "\n",
    "Sisa hyperparameter lainnya sama dengan Decision Tree, yaitu:\n",
    "- criterion: cara menghitung impurity pada feature (gini, entropy). melihat feature mana yang menjadi root/node\n",
    "- max_depth: maksimal kedalaman tree untuk mencegah overfitting\n",
    "- min_sample_split: berapa jumlah sample yg dibutuhkan pada node untuk membuat leaf baru (agar tidak terlalu sedikit sehingga mengakibatkan overfit)\n",
    "- min_sample_leaf: berapa jumlah sample yg dibutuhkan pada leaf agar leaf terbentuk (agar tidak terlalu sedikit sehingga mengakibatkan overfit)\n",
    "- ccp_alpha: jika cost/error dari sebuah leaf/subtree lebih besar daripada ccp_alpha, subtree tersebut akan kita hapus/prune sehingga meminimalisir error/variance dari model"
   ]
  },
  {
   "cell_type": "code",
   "execution_count": 58,
   "id": "8feb3071-1206-4a8f-b203-6d877a6e7d28",
   "metadata": {},
   "outputs": [
    {
     "name": "stdout",
     "output_type": "stream",
     "text": [
      "Accuracy (Test Set): 0.95\n",
      "Accuracy (Train Set): 1.00\n",
      "Precision (Test Set): 0.84\n",
      "Precision (Train Set): 1.00\n",
      "Recall (Test Set): 0.82\n",
      "Recall (Train Set): 1.00\n",
      "F1-Score (Test Set): 0.83\n",
      "F1-Score (Train Set): 1.00\n",
      "AUC (test-proba): 0.97\n",
      "AUC (train-proba): 1.00\n",
      "[[1251   37]\n",
      " [  41  190]]\n"
     ]
    }
   ],
   "source": [
    "from sklearn.model_selection import RandomizedSearchCV, GridSearchCV\n",
    "\n",
    "import numpy as np\n",
    "\n",
    "#List Hyperparameters yang akan diuji\n",
    "hyperparameters = dict(\n",
    "                       n_estimators = [int(x) for x in np.linspace(start = 1, stop = 100, num = 100)], # Jumlah subtree \n",
    "                       bootstrap = [True], # Apakah pakai bootstrapping atau tidak\n",
    "                       criterion = ['gini','entropy'],\n",
    "                       max_depth = [int(x) for x in np.linspace(10, 110, num = 11)],  # Maximum kedalaman tree\n",
    "                       min_samples_split = [int(x) for x in np.linspace(start = 2, stop = 10, num = 5)], # Jumlah minimum samples pada node agar boleh di split menjadi leaf baru\n",
    "                       min_samples_leaf = [int(x) for x in np.linspace(start = 1, stop = 10, num = 5)], # Jumlah minimum samples pada leaf agar boleh terbentuk leaf baru\n",
    "                       max_features = ['auto', 'sqrt', 'log2'], # Jumlah feature yg dipertimbangkan pada masing-masing split\n",
    "                       n_jobs = [-1], # Core untuk parallel computation. -1 untuk menggunakan semua core\n",
    "                      )\n",
    "\n",
    "# Init\n",
    "rf = RandomForestClassifier(random_state=123)\n",
    "rf_tuned = RandomizedSearchCV(rf, hyperparameters, cv=5, scoring='recall')\n",
    "rf_tuned.fit(Xtrain, ytrain)\n",
    "\n",
    "# Predict & Evaluation\n",
    "eval_classification(rf_tuned)"
   ]
  },
  {
   "cell_type": "code",
   "execution_count": 59,
   "id": "b912f74d-0034-4aea-9368-d799e9581a0e",
   "metadata": {},
   "outputs": [
    {
     "data": {
      "text/plain": [
       "{'bootstrap': True,\n",
       " 'ccp_alpha': 0.0,\n",
       " 'class_weight': None,\n",
       " 'criterion': 'gini',\n",
       " 'max_depth': 30,\n",
       " 'max_features': 'log2',\n",
       " 'max_leaf_nodes': None,\n",
       " 'max_samples': None,\n",
       " 'min_impurity_decrease': 0.0,\n",
       " 'min_samples_leaf': 1,\n",
       " 'min_samples_split': 2,\n",
       " 'min_weight_fraction_leaf': 0.0,\n",
       " 'n_estimators': 74,\n",
       " 'n_jobs': -1,\n",
       " 'oob_score': False,\n",
       " 'random_state': 123,\n",
       " 'verbose': 0,\n",
       " 'warm_start': False}"
      ]
     },
     "execution_count": 59,
     "metadata": {},
     "output_type": "execute_result"
    }
   ],
   "source": [
    "rf_tuned.best_estimator_.get_params()"
   ]
  },
  {
   "cell_type": "markdown",
   "id": "8b8e3efe-ce19-4a68-9fb3-22abd6748144",
   "metadata": {
    "tags": []
   },
   "source": [
    "# XGBoost"
   ]
  },
  {
   "cell_type": "code",
   "execution_count": 60,
   "id": "1f7d3aed-1521-4e46-942b-55cc05c669c7",
   "metadata": {},
   "outputs": [
    {
     "name": "stdout",
     "output_type": "stream",
     "text": [
      "[23:36:23] WARNING: C:/Users/Administrator/workspace/xgboost-win64_release_1.5.1/src/learner.cc:1115: Starting in XGBoost 1.3.0, the default evaluation metric used with the objective 'binary:logistic' was changed from 'error' to 'logloss'. Explicitly set eval_metric if you'd like to restore the old behavior.\n",
      "Accuracy (Test Set): 0.95\n",
      "Accuracy (Train Set): 1.00\n",
      "Precision (Test Set): 0.87\n",
      "Precision (Train Set): 1.00\n",
      "Recall (Test Set): 0.81\n",
      "Recall (Train Set): 1.00\n",
      "F1-Score (Test Set): 0.84\n",
      "F1-Score (Train Set): 1.00\n",
      "AUC (test-proba): 0.98\n",
      "AUC (train-proba): 1.00\n",
      "[[1261   27]\n",
      " [  43  188]]\n"
     ]
    }
   ],
   "source": [
    "from xgboost import XGBClassifier\n",
    "xg = XGBClassifier(random_state=123)\n",
    "xg.fit(Xtrain, ytrain)\n",
    "\n",
    "y_pred = xg.predict(Xtest)\n",
    "eval_classification(xg)"
   ]
  },
  {
   "cell_type": "code",
   "execution_count": 61,
   "id": "76273af2-9a7b-4e5a-acf2-ed5fdfa51c1a",
   "metadata": {
    "tags": []
   },
   "outputs": [
    {
     "name": "stdout",
     "output_type": "stream",
     "text": [
      "[23:36:24] WARNING: C:/Users/Administrator/workspace/xgboost-win64_release_1.5.1/src/learner.cc:1115: Starting in XGBoost 1.3.0, the default evaluation metric used with the objective 'binary:logistic' was changed from 'error' to 'logloss'. Explicitly set eval_metric if you'd like to restore the old behavior.\n",
      "[23:36:25] WARNING: C:/Users/Administrator/workspace/xgboost-win64_release_1.5.1/src/learner.cc:1115: Starting in XGBoost 1.3.0, the default evaluation metric used with the objective 'binary:logistic' was changed from 'error' to 'logloss'. Explicitly set eval_metric if you'd like to restore the old behavior.\n",
      "[23:36:25] WARNING: C:/Users/Administrator/workspace/xgboost-win64_release_1.5.1/src/learner.cc:1115: Starting in XGBoost 1.3.0, the default evaluation metric used with the objective 'binary:logistic' was changed from 'error' to 'logloss'. Explicitly set eval_metric if you'd like to restore the old behavior.\n",
      "[23:36:26] WARNING: C:/Users/Administrator/workspace/xgboost-win64_release_1.5.1/src/learner.cc:1115: Starting in XGBoost 1.3.0, the default evaluation metric used with the objective 'binary:logistic' was changed from 'error' to 'logloss'. Explicitly set eval_metric if you'd like to restore the old behavior.\n",
      "[23:36:26] WARNING: C:/Users/Administrator/workspace/xgboost-win64_release_1.5.1/src/learner.cc:1115: Starting in XGBoost 1.3.0, the default evaluation metric used with the objective 'binary:logistic' was changed from 'error' to 'logloss'. Explicitly set eval_metric if you'd like to restore the old behavior.\n",
      "[23:36:27] WARNING: C:/Users/Administrator/workspace/xgboost-win64_release_1.5.1/src/learner.cc:1115: Starting in XGBoost 1.3.0, the default evaluation metric used with the objective 'binary:logistic' was changed from 'error' to 'logloss'. Explicitly set eval_metric if you'd like to restore the old behavior.\n",
      "[23:36:28] WARNING: C:/Users/Administrator/workspace/xgboost-win64_release_1.5.1/src/learner.cc:1115: Starting in XGBoost 1.3.0, the default evaluation metric used with the objective 'binary:logistic' was changed from 'error' to 'logloss'. Explicitly set eval_metric if you'd like to restore the old behavior.\n",
      "[23:36:28] WARNING: C:/Users/Administrator/workspace/xgboost-win64_release_1.5.1/src/learner.cc:1115: Starting in XGBoost 1.3.0, the default evaluation metric used with the objective 'binary:logistic' was changed from 'error' to 'logloss'. Explicitly set eval_metric if you'd like to restore the old behavior.\n",
      "[23:36:29] WARNING: C:/Users/Administrator/workspace/xgboost-win64_release_1.5.1/src/learner.cc:1115: Starting in XGBoost 1.3.0, the default evaluation metric used with the objective 'binary:logistic' was changed from 'error' to 'logloss'. Explicitly set eval_metric if you'd like to restore the old behavior.\n",
      "[23:36:29] WARNING: C:/Users/Administrator/workspace/xgboost-win64_release_1.5.1/src/learner.cc:1115: Starting in XGBoost 1.3.0, the default evaluation metric used with the objective 'binary:logistic' was changed from 'error' to 'logloss'. Explicitly set eval_metric if you'd like to restore the old behavior.\n",
      "[23:36:30] WARNING: C:/Users/Administrator/workspace/xgboost-win64_release_1.5.1/src/learner.cc:1115: Starting in XGBoost 1.3.0, the default evaluation metric used with the objective 'binary:logistic' was changed from 'error' to 'logloss'. Explicitly set eval_metric if you'd like to restore the old behavior.\n",
      "[23:36:30] WARNING: C:/Users/Administrator/workspace/xgboost-win64_release_1.5.1/src/learner.cc:1115: Starting in XGBoost 1.3.0, the default evaluation metric used with the objective 'binary:logistic' was changed from 'error' to 'logloss'. Explicitly set eval_metric if you'd like to restore the old behavior.\n",
      "[23:36:31] WARNING: C:/Users/Administrator/workspace/xgboost-win64_release_1.5.1/src/learner.cc:1115: Starting in XGBoost 1.3.0, the default evaluation metric used with the objective 'binary:logistic' was changed from 'error' to 'logloss'. Explicitly set eval_metric if you'd like to restore the old behavior.\n",
      "[23:36:31] WARNING: C:/Users/Administrator/workspace/xgboost-win64_release_1.5.1/src/learner.cc:1115: Starting in XGBoost 1.3.0, the default evaluation metric used with the objective 'binary:logistic' was changed from 'error' to 'logloss'. Explicitly set eval_metric if you'd like to restore the old behavior.\n",
      "[23:36:31] WARNING: C:/Users/Administrator/workspace/xgboost-win64_release_1.5.1/src/learner.cc:1115: Starting in XGBoost 1.3.0, the default evaluation metric used with the objective 'binary:logistic' was changed from 'error' to 'logloss'. Explicitly set eval_metric if you'd like to restore the old behavior.\n",
      "[23:36:32] WARNING: C:/Users/Administrator/workspace/xgboost-win64_release_1.5.1/src/learner.cc:1115: Starting in XGBoost 1.3.0, the default evaluation metric used with the objective 'binary:logistic' was changed from 'error' to 'logloss'. Explicitly set eval_metric if you'd like to restore the old behavior.\n",
      "[23:36:33] WARNING: C:/Users/Administrator/workspace/xgboost-win64_release_1.5.1/src/learner.cc:1115: Starting in XGBoost 1.3.0, the default evaluation metric used with the objective 'binary:logistic' was changed from 'error' to 'logloss'. Explicitly set eval_metric if you'd like to restore the old behavior.\n",
      "[23:36:35] WARNING: C:/Users/Administrator/workspace/xgboost-win64_release_1.5.1/src/learner.cc:1115: Starting in XGBoost 1.3.0, the default evaluation metric used with the objective 'binary:logistic' was changed from 'error' to 'logloss'. Explicitly set eval_metric if you'd like to restore the old behavior.\n",
      "[23:36:37] WARNING: C:/Users/Administrator/workspace/xgboost-win64_release_1.5.1/src/learner.cc:1115: Starting in XGBoost 1.3.0, the default evaluation metric used with the objective 'binary:logistic' was changed from 'error' to 'logloss'. Explicitly set eval_metric if you'd like to restore the old behavior.\n",
      "[23:36:38] WARNING: C:/Users/Administrator/workspace/xgboost-win64_release_1.5.1/src/learner.cc:1115: Starting in XGBoost 1.3.0, the default evaluation metric used with the objective 'binary:logistic' was changed from 'error' to 'logloss'. Explicitly set eval_metric if you'd like to restore the old behavior.\n",
      "[23:36:40] WARNING: C:/Users/Administrator/workspace/xgboost-win64_release_1.5.1/src/learner.cc:1115: Starting in XGBoost 1.3.0, the default evaluation metric used with the objective 'binary:logistic' was changed from 'error' to 'logloss'. Explicitly set eval_metric if you'd like to restore the old behavior.\n",
      "[23:36:40] WARNING: C:/Users/Administrator/workspace/xgboost-win64_release_1.5.1/src/learner.cc:1115: Starting in XGBoost 1.3.0, the default evaluation metric used with the objective 'binary:logistic' was changed from 'error' to 'logloss'. Explicitly set eval_metric if you'd like to restore the old behavior.\n",
      "[23:36:41] WARNING: C:/Users/Administrator/workspace/xgboost-win64_release_1.5.1/src/learner.cc:1115: Starting in XGBoost 1.3.0, the default evaluation metric used with the objective 'binary:logistic' was changed from 'error' to 'logloss'. Explicitly set eval_metric if you'd like to restore the old behavior.\n",
      "[23:36:41] WARNING: C:/Users/Administrator/workspace/xgboost-win64_release_1.5.1/src/learner.cc:1115: Starting in XGBoost 1.3.0, the default evaluation metric used with the objective 'binary:logistic' was changed from 'error' to 'logloss'. Explicitly set eval_metric if you'd like to restore the old behavior.\n",
      "[23:36:42] WARNING: C:/Users/Administrator/workspace/xgboost-win64_release_1.5.1/src/learner.cc:1115: Starting in XGBoost 1.3.0, the default evaluation metric used with the objective 'binary:logistic' was changed from 'error' to 'logloss'. Explicitly set eval_metric if you'd like to restore the old behavior.\n",
      "[23:36:42] WARNING: C:/Users/Administrator/workspace/xgboost-win64_release_1.5.1/src/learner.cc:1115: Starting in XGBoost 1.3.0, the default evaluation metric used with the objective 'binary:logistic' was changed from 'error' to 'logloss'. Explicitly set eval_metric if you'd like to restore the old behavior.\n",
      "[23:36:42] WARNING: C:/Users/Administrator/workspace/xgboost-win64_release_1.5.1/src/learner.cc:1115: Starting in XGBoost 1.3.0, the default evaluation metric used with the objective 'binary:logistic' was changed from 'error' to 'logloss'. Explicitly set eval_metric if you'd like to restore the old behavior.\n",
      "[23:36:43] WARNING: C:/Users/Administrator/workspace/xgboost-win64_release_1.5.1/src/learner.cc:1115: Starting in XGBoost 1.3.0, the default evaluation metric used with the objective 'binary:logistic' was changed from 'error' to 'logloss'. Explicitly set eval_metric if you'd like to restore the old behavior.\n",
      "[23:36:43] WARNING: C:/Users/Administrator/workspace/xgboost-win64_release_1.5.1/src/learner.cc:1115: Starting in XGBoost 1.3.0, the default evaluation metric used with the objective 'binary:logistic' was changed from 'error' to 'logloss'. Explicitly set eval_metric if you'd like to restore the old behavior.\n",
      "[23:36:43] WARNING: C:/Users/Administrator/workspace/xgboost-win64_release_1.5.1/src/learner.cc:1115: Starting in XGBoost 1.3.0, the default evaluation metric used with the objective 'binary:logistic' was changed from 'error' to 'logloss'. Explicitly set eval_metric if you'd like to restore the old behavior.\n",
      "[23:36:43] WARNING: C:/Users/Administrator/workspace/xgboost-win64_release_1.5.1/src/learner.cc:1115: Starting in XGBoost 1.3.0, the default evaluation metric used with the objective 'binary:logistic' was changed from 'error' to 'logloss'. Explicitly set eval_metric if you'd like to restore the old behavior.\n",
      "[23:36:44] WARNING: C:/Users/Administrator/workspace/xgboost-win64_release_1.5.1/src/learner.cc:1115: Starting in XGBoost 1.3.0, the default evaluation metric used with the objective 'binary:logistic' was changed from 'error' to 'logloss'. Explicitly set eval_metric if you'd like to restore the old behavior.\n",
      "[23:36:45] WARNING: C:/Users/Administrator/workspace/xgboost-win64_release_1.5.1/src/learner.cc:1115: Starting in XGBoost 1.3.0, the default evaluation metric used with the objective 'binary:logistic' was changed from 'error' to 'logloss'. Explicitly set eval_metric if you'd like to restore the old behavior.\n",
      "[23:36:46] WARNING: C:/Users/Administrator/workspace/xgboost-win64_release_1.5.1/src/learner.cc:1115: Starting in XGBoost 1.3.0, the default evaluation metric used with the objective 'binary:logistic' was changed from 'error' to 'logloss'. Explicitly set eval_metric if you'd like to restore the old behavior.\n",
      "[23:36:47] WARNING: C:/Users/Administrator/workspace/xgboost-win64_release_1.5.1/src/learner.cc:1115: Starting in XGBoost 1.3.0, the default evaluation metric used with the objective 'binary:logistic' was changed from 'error' to 'logloss'. Explicitly set eval_metric if you'd like to restore the old behavior.\n",
      "[23:36:49] WARNING: C:/Users/Administrator/workspace/xgboost-win64_release_1.5.1/src/learner.cc:1115: Starting in XGBoost 1.3.0, the default evaluation metric used with the objective 'binary:logistic' was changed from 'error' to 'logloss'. Explicitly set eval_metric if you'd like to restore the old behavior.\n",
      "[23:36:49] WARNING: C:/Users/Administrator/workspace/xgboost-win64_release_1.5.1/src/learner.cc:1115: Starting in XGBoost 1.3.0, the default evaluation metric used with the objective 'binary:logistic' was changed from 'error' to 'logloss'. Explicitly set eval_metric if you'd like to restore the old behavior.\n",
      "[23:36:49] WARNING: C:/Users/Administrator/workspace/xgboost-win64_release_1.5.1/src/learner.cc:1115: Starting in XGBoost 1.3.0, the default evaluation metric used with the objective 'binary:logistic' was changed from 'error' to 'logloss'. Explicitly set eval_metric if you'd like to restore the old behavior.\n",
      "[23:36:50] WARNING: C:/Users/Administrator/workspace/xgboost-win64_release_1.5.1/src/learner.cc:1115: Starting in XGBoost 1.3.0, the default evaluation metric used with the objective 'binary:logistic' was changed from 'error' to 'logloss'. Explicitly set eval_metric if you'd like to restore the old behavior.\n",
      "[23:36:50] WARNING: C:/Users/Administrator/workspace/xgboost-win64_release_1.5.1/src/learner.cc:1115: Starting in XGBoost 1.3.0, the default evaluation metric used with the objective 'binary:logistic' was changed from 'error' to 'logloss'. Explicitly set eval_metric if you'd like to restore the old behavior.\n",
      "[23:36:50] WARNING: C:/Users/Administrator/workspace/xgboost-win64_release_1.5.1/src/learner.cc:1115: Starting in XGBoost 1.3.0, the default evaluation metric used with the objective 'binary:logistic' was changed from 'error' to 'logloss'. Explicitly set eval_metric if you'd like to restore the old behavior.\n",
      "[23:36:51] WARNING: C:/Users/Administrator/workspace/xgboost-win64_release_1.5.1/src/learner.cc:1115: Starting in XGBoost 1.3.0, the default evaluation metric used with the objective 'binary:logistic' was changed from 'error' to 'logloss'. Explicitly set eval_metric if you'd like to restore the old behavior.\n",
      "[23:36:51] WARNING: C:/Users/Administrator/workspace/xgboost-win64_release_1.5.1/src/learner.cc:1115: Starting in XGBoost 1.3.0, the default evaluation metric used with the objective 'binary:logistic' was changed from 'error' to 'logloss'. Explicitly set eval_metric if you'd like to restore the old behavior.\n",
      "[23:36:52] WARNING: C:/Users/Administrator/workspace/xgboost-win64_release_1.5.1/src/learner.cc:1115: Starting in XGBoost 1.3.0, the default evaluation metric used with the objective 'binary:logistic' was changed from 'error' to 'logloss'. Explicitly set eval_metric if you'd like to restore the old behavior.\n",
      "[23:36:52] WARNING: C:/Users/Administrator/workspace/xgboost-win64_release_1.5.1/src/learner.cc:1115: Starting in XGBoost 1.3.0, the default evaluation metric used with the objective 'binary:logistic' was changed from 'error' to 'logloss'. Explicitly set eval_metric if you'd like to restore the old behavior.\n",
      "[23:36:53] WARNING: C:/Users/Administrator/workspace/xgboost-win64_release_1.5.1/src/learner.cc:1115: Starting in XGBoost 1.3.0, the default evaluation metric used with the objective 'binary:logistic' was changed from 'error' to 'logloss'. Explicitly set eval_metric if you'd like to restore the old behavior.\n",
      "[23:36:54] WARNING: C:/Users/Administrator/workspace/xgboost-win64_release_1.5.1/src/learner.cc:1115: Starting in XGBoost 1.3.0, the default evaluation metric used with the objective 'binary:logistic' was changed from 'error' to 'logloss'. Explicitly set eval_metric if you'd like to restore the old behavior.\n",
      "[23:36:55] WARNING: C:/Users/Administrator/workspace/xgboost-win64_release_1.5.1/src/learner.cc:1115: Starting in XGBoost 1.3.0, the default evaluation metric used with the objective 'binary:logistic' was changed from 'error' to 'logloss'. Explicitly set eval_metric if you'd like to restore the old behavior.\n",
      "[23:36:55] WARNING: C:/Users/Administrator/workspace/xgboost-win64_release_1.5.1/src/learner.cc:1115: Starting in XGBoost 1.3.0, the default evaluation metric used with the objective 'binary:logistic' was changed from 'error' to 'logloss'. Explicitly set eval_metric if you'd like to restore the old behavior.\n",
      "[23:36:56] WARNING: C:/Users/Administrator/workspace/xgboost-win64_release_1.5.1/src/learner.cc:1115: Starting in XGBoost 1.3.0, the default evaluation metric used with the objective 'binary:logistic' was changed from 'error' to 'logloss'. Explicitly set eval_metric if you'd like to restore the old behavior.\n",
      "[23:36:57] WARNING: C:/Users/Administrator/workspace/xgboost-win64_release_1.5.1/src/learner.cc:1115: Starting in XGBoost 1.3.0, the default evaluation metric used with the objective 'binary:logistic' was changed from 'error' to 'logloss'. Explicitly set eval_metric if you'd like to restore the old behavior.\n",
      "Accuracy (Test Set): 0.92\n",
      "Accuracy (Train Set): 0.98\n",
      "Precision (Test Set): 0.72\n",
      "Precision (Train Set): 0.97\n",
      "Recall (Test Set): 0.75\n",
      "Recall (Train Set): 0.99\n",
      "F1-Score (Test Set): 0.74\n",
      "F1-Score (Train Set): 0.98\n",
      "AUC (test-proba): 0.95\n",
      "AUC (train-proba): 1.00\n",
      "[[1222   66]\n",
      " [  57  174]]\n"
     ]
    }
   ],
   "source": [
    "from sklearn.model_selection import RandomizedSearchCV, GridSearchCV\n",
    "import numpy as np\n",
    "\n",
    "#Menjadikan ke dalam bentuk dictionary\n",
    "hyperparameters = {\n",
    "                    'max_depth' : [int(x) for x in np.linspace(10, 110, num = 11)],\n",
    "                    'min_child_weight' : [int(x) for x in np.linspace(1, 20, num = 11)],\n",
    "                    'gamma' : [float(x) for x in np.linspace(0, 1, num = 11)],\n",
    "                    'tree_method' : ['auto', 'exact', 'approx', 'hist'],\n",
    " 'colsample_bytree' : [float(x) for x in np.linspace(0, 1, num = 11)],\n",
    "                    'eta' : [float(x) for x in np.linspace(0, 1, num = 100)],\n",
    "\n",
    "                    'lambda' : [float(x) for x in np.linspace(0, 1, num = 11)],\n",
    "                    'alpha' : [float(x) for x in np.linspace(0, 1, num = 11)]\n",
    "                    }\n",
    "# Init\n",
    "xg = XGBClassifier(random_state=123)\n",
    "xg_tuned = RandomizedSearchCV(xg, hyperparameters, cv=5, random_state=123, scoring='recall')\n",
    "xg_tuned.fit(Xtrain,ytrain)\n",
    "\n",
    "# Predict & Evaluation\n",
    "eval_classification(xg_tuned)"
   ]
  },
  {
   "cell_type": "markdown",
   "id": "82a1f5e2-84e8-4ea1-9a77-998f317bc1ce",
   "metadata": {
    "jp-MarkdownHeadingCollapsed": true,
    "tags": []
   },
   "source": [
    "# Adaboost"
   ]
  },
  {
   "cell_type": "code",
   "execution_count": 62,
   "id": "75c09776-d083-42da-b288-3abf6b1e9357",
   "metadata": {},
   "outputs": [
    {
     "name": "stdout",
     "output_type": "stream",
     "text": [
      "Accuracy (Test Set): 0.85\n",
      "Accuracy (Train Set): 0.89\n",
      "Precision (Test Set): 0.50\n",
      "Precision (Train Set): 0.88\n",
      "Recall (Test Set): 0.69\n",
      "Recall (Train Set): 0.89\n",
      "F1-Score (Test Set): 0.58\n",
      "F1-Score (Train Set): 0.89\n",
      "AUC (test-proba): 0.89\n",
      "AUC (train-proba): 0.96\n",
      "[[1127  161]\n",
      " [  71  160]]\n"
     ]
    }
   ],
   "source": [
    "from sklearn.ensemble import AdaBoostClassifier\n",
    "ab = AdaBoostClassifier(random_state=123)\n",
    "ab.fit(Xtrain,ytrain)\n",
    "\n",
    "eval_classification(ab)"
   ]
  },
  {
   "cell_type": "code",
   "execution_count": 63,
   "id": "8c63ead9-b64f-428e-9e22-f303d63957a1",
   "metadata": {},
   "outputs": [
    {
     "name": "stdout",
     "output_type": "stream",
     "text": [
      "Accuracy (Test Set): 0.87\n",
      "Accuracy (Train Set): 0.92\n",
      "Precision (Test Set): 0.57\n",
      "Precision (Train Set): 0.92\n",
      "Recall (Test Set): 0.69\n",
      "Recall (Train Set): 0.92\n",
      "F1-Score (Test Set): 0.63\n",
      "F1-Score (Train Set): 0.92\n",
      "AUC (test-proba): 0.90\n",
      "AUC (train-proba): 0.97\n",
      "[[1168  120]\n",
      " [  71  160]]\n"
     ]
    }
   ],
   "source": [
    "from sklearn.model_selection import RandomizedSearchCV, GridSearchCV\n",
    "import numpy as np\n",
    "\n",
    "# List of hyperparameter\n",
    "hyperparameters = dict(n_estimators = [int(x) for x in np.linspace(start = 50, stop = 2000, num = 2000)], # Jumlah iterasi\n",
    "                       learning_rate = [float(x) for x in np.linspace(start = 0.001, stop = 0.1, num = 200)],  \n",
    "                       algorithm = ['SAMME', 'SAMME.R']\n",
    "                      )\n",
    "\n",
    "# Init model\n",
    "ab = AdaBoostClassifier(random_state=123)\n",
    "ab_tuned = RandomizedSearchCV(ab, hyperparameters, random_state=123, cv=5, scoring='recall')\n",
    "ab_tuned.fit(Xtrain,ytrain)\n",
    "\n",
    "# Predict & Evaluation\n",
    "eval_classification(ab_tuned)"
   ]
  },
  {
   "cell_type": "markdown",
   "id": "fe4a06e2-a970-4513-adbe-6463c28c427b",
   "metadata": {
    "tags": []
   },
   "source": [
    "# Feature Importance"
   ]
  },
  {
   "cell_type": "code",
   "execution_count": 64,
   "id": "16fc89bd-bd1c-4564-ab2f-fd7663f00b55",
   "metadata": {},
   "outputs": [
    {
     "data": {
      "text/plain": [
       "Text(0.5, 1.0, 'feature importance score')"
      ]
     },
     "execution_count": 64,
     "metadata": {},
     "output_type": "execute_result"
    },
    {
     "data": {
      "image/png": "[encoded data removed]",
      "text/plain": [
       "<Figure size 720x576 with 1 Axes>"
      ]
     },
     "metadata": {
      "needs_background": "light"
     },
     "output_type": "display_data"
    }
   ],
   "source": [
    "from sklearn.tree import DecisionTreeClassifier # import decision tree dari sklearn\n",
    "dt = DecisionTreeClassifier() # inisiasi object dengan nama dt\n",
    "dt.fit(Xtrain, ytrain) # fit model decision tree dari data train\n",
    "dt.feature_importances_\n",
    "# plt.figsize(10, 8)\n",
    "feat_importances = pd.Series(dt.feature_importances_, index=X.columns)\n",
    "ax = feat_importances.nlargest(25).plot(kind='barh', figsize=(10, 8))\n",
    "ax.invert_yaxis()\n",
    "\n",
    "plt.xlabel('score')\n",
    "plt.ylabel('feature')\n",
    "plt.title('feature importance score')"
   ]
  },
  {
   "cell_type": "code",
   "execution_count": 65,
   "id": "31d3eb30-140b-457a-b57d-55e0a76095c2",
   "metadata": {},
   "outputs": [
    {
     "data": {
      "text/plain": [
       "Text(0.5, 1.0, 'feature importance score random forest')"
      ]
     },
     "execution_count": 65,
     "metadata": {},
     "output_type": "execute_result"
    },
    {
     "data": {
      "image/png": "[encoded data removed]",
      "text/plain": [
       "<Figure size 720x576 with 1 Axes>"
      ]
     },
     "metadata": {
      "needs_background": "light"
     },
     "output_type": "display_data"
    }
   ],
   "source": [
    "from sklearn.ensemble import RandomForestClassifier\n",
    "rf = RandomForestClassifier(random_state=123)\n",
    "rf.fit(Xtrain,ytrain)\n",
    "rf.feature_importances_\n",
    "# plt.figsize(10, 8)\n",
    "feat_importances = pd.Series(rf.feature_importances_, index=X.columns)\n",
    "ax = feat_importances.nlargest(25).plot(kind='barh', figsize=(10, 8), color='salmon')\n",
    "ax.invert_yaxis()\n",
    "\n",
    "plt.xlabel('score')\n",
    "plt.ylabel('feature')\n",
    "plt.title('feature importance score random forest')"
   ]
  },
  {
   "cell_type": "code",
   "execution_count": 67,
   "id": "1fa63cc0-2e50-440f-a5d8-6abf7ca428a6",
   "metadata": {},
   "outputs": [],
   "source": [
    "Xtrains = Xtrain.drop(columns=['Gender','PreferedOrderCat_Fashion','PreferedOrderCat_Grocery' ,'PreferedOrderCat_Mobile Phone','PreferedOrderCat_Others', 'CityTier'])\n",
    "Xtests = Xtest.drop(columns=['Gender','PreferedOrderCat_Fashion','PreferedOrderCat_Grocery','PreferedOrderCat_Mobile Phone','PreferedOrderCat_Others', 'CityTier'])\n",
    "ytrains = ytrain\n",
    "ytests = ytest"
   ]
  },
  {
   "cell_type": "code",
   "execution_count": 68,
   "id": "ff1ade40-8f55-4c1d-86a8-d65d35960cfe",
   "metadata": {},
   "outputs": [
    {
     "name": "stdout",
     "output_type": "stream",
     "text": [
      "<class 'pandas.core.frame.DataFrame'>\n",
      "RangeIndex: 5872 entries, 0 to 5871\n",
      "Data columns (total 19 columns):\n",
      " #   Column                               Non-Null Count  Dtype  \n",
      "---  ------                               --------------  -----  \n",
      " 0   Tenure                               5872 non-null   float64\n",
      " 1   WarehouseToHome                      5872 non-null   float64\n",
      " 2   NumberOfDeviceRegistered             5872 non-null   float64\n",
      " 3   SatisfactionScore                    5872 non-null   float64\n",
      " 4   Complain                             5872 non-null   int64  \n",
      " 5   DaySinceLastOrder                    5872 non-null   float64\n",
      " 6   CashbackAmount_std                   5872 non-null   float64\n",
      " 7   HourSpendOnApp                       5872 non-null   float64\n",
      " 8   NumberOfAddress                      5872 non-null   float64\n",
      " 9   OrderAmountHikeFromlastYear          5872 non-null   float64\n",
      " 10  CouponUsed                           5872 non-null   float64\n",
      " 11  OrderCount                           5872 non-null   float64\n",
      " 12  PreferredPaymentMode_COD             5872 non-null   uint8  \n",
      " 13  PreferredPaymentMode_Credit Card     5872 non-null   uint8  \n",
      " 14  PreferredPaymentMode_Debit Card      5872 non-null   uint8  \n",
      " 15  PreferredPaymentMode_E wallet        5872 non-null   uint8  \n",
      " 16  PreferredPaymentMode_UPI             5872 non-null   uint8  \n",
      " 17  MaritalStatus                        5872 non-null   int64  \n",
      " 18  PreferedOrderCat_Laptop & Accessory  5872 non-null   uint8  \n",
      "dtypes: float64(11), int64(2), uint8(6)\n",
      "memory usage: 630.9 KB\n"
     ]
    }
   ],
   "source": [
    "Xtrains.info()"
   ]
  },
  {
   "cell_type": "code",
   "execution_count": 69,
   "id": "99508f6a-51c9-42df-8b48-5474bfb17bc7",
   "metadata": {},
   "outputs": [
    {
     "data": {
      "text/plain": [
       "(5872, 19)"
      ]
     },
     "execution_count": 69,
     "metadata": {},
     "output_type": "execute_result"
    }
   ],
   "source": [
    "Xtrains.shape"
   ]
  },
  {
   "cell_type": "code",
   "execution_count": 70,
   "id": "033e9a7c-79d7-43e4-8df8-640dd0abed10",
   "metadata": {},
   "outputs": [
    {
     "data": {
      "text/plain": [
       "(5872,)"
      ]
     },
     "execution_count": 70,
     "metadata": {},
     "output_type": "execute_result"
    }
   ],
   "source": [
    "ytrains.shape"
   ]
  },
  {
   "cell_type": "code",
   "execution_count": 71,
   "id": "09c1fac3-ea9e-4979-a1b1-082450e5a87f",
   "metadata": {},
   "outputs": [],
   "source": [
    "from sklearn.metrics import accuracy_score, precision_score, recall_score, f1_score, roc_auc_score, confusion_matrix\n",
    "import matplotlib.pyplot as plt\n",
    "\n",
    "def eval_classification(model):\n",
    "    y_pred = model.predict(Xtests)\n",
    "    y_pred_train = model.predict(Xtrains)\n",
    "    y_pred_proba = model.predict_proba(Xtests)\n",
    "    y_pred_proba_train = model.predict_proba(Xtrains)\n",
    "    \n",
    "    print(\"Accuracy (Test Set): %.2f\" % accuracy_score(ytests, y_pred))\n",
    "    print(\"Accuracy (Train Set): %.2f\" % accuracy_score(ytrains, y_pred_train))\n",
    "    \n",
    "    print(\"Precision (Test Set): %.2f\" % precision_score(ytests, y_pred))\n",
    "    print(\"Precision (Train Set): %.2f\" % precision_score(ytrains, y_pred_train))\n",
    "    \n",
    "    print(\"Recall (Test Set): %.2f\" % recall_score(ytests, y_pred))\n",
    "    print(\"Recall (Train Set): %.2f\" % recall_score(ytrains, y_pred_train))\n",
    "    \n",
    "    print(\"F1-Score (Test Set): %.2f\" % f1_score(ytests, y_pred))\n",
    "    print(\"F1-Score (Train Set): %.2f\" % f1_score(ytrains, y_pred_train))\n",
    "    \n",
    "    print(\"AUC (test-proba): %.2f\" % roc_auc_score(ytests, y_pred_proba[:, 1]))\n",
    "    print(\"AUC (train-proba): %.2f\" % roc_auc_score(ytrains, y_pred_proba_train[:, 1]))\n",
    "    \n",
    "    print(\"Confusion Matrix):\", confusion_matrix(ytests, y_pred))\n",
    "#     print(\"AUC (test-label): %.2f\" % roc_auc_score(ytest, y_pred))\n",
    "#     print(\"AUC (train-label): %.2f\" % roc_auc_score(ytrain, y_pred_train))\n",
    "\n",
    "def show_feature_importance(model):\n",
    "    feat_importances = pd.Series(model.feature_importances_, index=X.columns)\n",
    "    ax = feat_importances.nlargest(25).plot(kind='barh', figsize=(10, 8))\n",
    "    ax.invert_yaxis()\n",
    "\n",
    "    plt.xlabel('score')\n",
    "    plt.ylabel('feature')\n",
    "    plt.title('feature importance score')\n",
    "\n",
    "def show_best_hyperparameter(model):\n",
    "    print(model.best_estimator_.get_params())"
   ]
  },
  {
   "cell_type": "code",
   "execution_count": 72,
   "id": "18ce3355-28ee-4dea-8296-1bdd88740099",
   "metadata": {},
   "outputs": [
    {
     "name": "stdout",
     "output_type": "stream",
     "text": [
      "Accuracy (Test Set): 0.83\n",
      "Accuracy (Train Set): 0.84\n",
      "Precision (Test Set): 0.47\n",
      "Precision (Train Set): 0.85\n",
      "Recall (Test Set): 0.77\n",
      "Recall (Train Set): 0.83\n",
      "F1-Score (Test Set): 0.58\n",
      "F1-Score (Train Set): 0.84\n",
      "AUC (test-proba): 0.88\n",
      "AUC (train-proba): 0.92\n",
      "Confusion Matrix): [[1085  203]\n",
      " [  54  177]]\n"
     ]
    }
   ],
   "source": [
    "from sklearn.linear_model import LogisticRegression\n",
    "lrs = LogisticRegression(random_state=123)\n",
    "lrs.fit(Xtrains, ytrains)\n",
    "eval_classification(lrs) "
   ]
  },
  {
   "cell_type": "code",
   "execution_count": 73,
   "id": "7f8c118a-8ca5-470a-ae85-e53376360abc",
   "metadata": {},
   "outputs": [
    {
     "name": "stdout",
     "output_type": "stream",
     "text": [
      "Accuracy (Test Set): 0.83\n",
      "Accuracy (Train Set): 0.84\n",
      "Precision (Test Set): 0.47\n",
      "Precision (Train Set): 0.85\n",
      "Recall (Test Set): 0.77\n",
      "Recall (Train Set): 0.83\n",
      "F1-Score (Test Set): 0.58\n",
      "F1-Score (Train Set): 0.84\n",
      "AUC (test-proba): 0.88\n",
      "AUC (train-proba): 0.91\n",
      "Confusion Matrix): [[1085  203]\n",
      " [  54  177]]\n"
     ]
    }
   ],
   "source": [
    "# tune hyperparam\n",
    "from sklearn.model_selection import RandomizedSearchCV, GridSearchCV\n",
    "\n",
    "penalty = ['l1', 'l2']\n",
    "C = [float(x) for x in np.linspace(0.001, 1, num = 30)]\n",
    "solver = ['newton-cg', 'sag', 'saga', 'lbfgs']\n",
    "hyperparams = dict(penalty=penalty, C=C, solver=solver)\n",
    "\n",
    "lrs = LogisticRegression()\n",
    "gss = RandomizedSearchCV(lrs, hyperparams, cv=5, scoring='roc_auc')\n",
    "gss.fit(Xtrains, ytrains)\n",
    "eval_classification(gss)"
   ]
  },
  {
   "cell_type": "code",
   "execution_count": 74,
   "id": "7e6afd63-e7f1-4293-bf79-ba852f57d66c",
   "metadata": {},
   "outputs": [
    {
     "data": {
      "text/plain": [
       "Text(0.5, 1.0, 'feature importance score')"
      ]
     },
     "execution_count": 74,
     "metadata": {},
     "output_type": "execute_result"
    },
    {
     "data": {
      "image/png": "[encoded data removed]",
      "text/plain": [
       "<Figure size 720x576 with 1 Axes>"
      ]
     },
     "metadata": {
      "needs_background": "light"
     },
     "output_type": "display_data"
    }
   ],
   "source": [
    "from sklearn.tree import DecisionTreeClassifier # import decision tree dari sklearn\n",
    "dt = DecisionTreeClassifier() # inisiasi object dengan nama dt\n",
    "dt.fit(Xtrains, ytrains) # fit model decision tree dari data train\n",
    "dt.feature_importances_\n",
    "# plt.figsize(10, 8)\n",
    "feat_importances = pd.Series(dt.feature_importances_, index=Xtests.columns)\n",
    "ax = feat_importances.nlargest(25).plot(kind='barh', figsize=(10, 8))\n",
    "ax.invert_yaxis()\n",
    "\n",
    "plt.xlabel('score')\n",
    "plt.ylabel('feature')\n",
    "plt.title('feature importance score')"
   ]
  },
  {
   "cell_type": "markdown",
   "id": "1f721a2a-b755-4670-b098-933cb2aa2c4a",
   "metadata": {
    "tags": []
   },
   "source": [
    "# Random Forest"
   ]
  },
  {
   "cell_type": "code",
   "execution_count": 75,
   "id": "13668e61-b7f2-4a86-8b1d-697f696a7294",
   "metadata": {},
   "outputs": [
    {
     "name": "stdout",
     "output_type": "stream",
     "text": [
      "Accuracy (Test Set): 0.94\n",
      "Accuracy (Train Set): 1.00\n",
      "Precision (Test Set): 0.80\n",
      "Precision (Train Set): 1.00\n",
      "Recall (Test Set): 0.78\n",
      "Recall (Train Set): 1.00\n",
      "F1-Score (Test Set): 0.79\n",
      "F1-Score (Train Set): 1.00\n",
      "AUC (test-proba): 0.96\n",
      "AUC (train-proba): 1.00\n",
      "Confusion Matrix): [[1244   44]\n",
      " [  50  181]]\n"
     ]
    }
   ],
   "source": [
    "from sklearn.ensemble import RandomForestClassifier\n",
    "rf = RandomForestClassifier(random_state=123)\n",
    "rf.fit(Xtrains,ytrains)\n",
    "eval_classification(rf)"
   ]
  },
  {
   "cell_type": "code",
   "execution_count": 76,
   "id": "dd9d11e8-cd03-40d4-ba24-5a967c5e4318",
   "metadata": {},
   "outputs": [
    {
     "name": "stdout",
     "output_type": "stream",
     "text": [
      "Accuracy (Test Set): 0.94\n",
      "Accuracy (Train Set): 1.00\n",
      "Precision (Test Set): 0.81\n",
      "Precision (Train Set): 1.00\n",
      "Recall (Test Set): 0.80\n",
      "Recall (Train Set): 1.00\n",
      "F1-Score (Test Set): 0.81\n",
      "F1-Score (Train Set): 1.00\n",
      "AUC (test-proba): 0.97\n",
      "AUC (train-proba): 1.00\n",
      "Confusion Matrix): [[1245   43]\n",
      " [  46  185]]\n"
     ]
    }
   ],
   "source": [
    "from sklearn.model_selection import RandomizedSearchCV, GridSearchCV\n",
    "\n",
    "import numpy as np\n",
    "\n",
    "#List Hyperparameters yang akan diuji\n",
    "hyperparameters = dict(\n",
    "                       n_estimators = [int(x) for x in np.linspace(start = 150, stop = 500, num = 50)], # Jumlah subtree \n",
    "                       bootstrap = [True], # Apakah pakai bootstrapping atau tidak\n",
    "                       criterion = ['gini','entropy'],\n",
    "                       max_depth = [int(x) for x in np.linspace(10, 110, num = 11)],  # Maximum kedalaman tree\n",
    "                       min_samples_split = [int(x) for x in np.linspace(start = 2, stop = 10, num = 5)], # Jumlah minimum samples pada node agar boleh di split menjadi leaf baru\n",
    "                       min_samples_leaf = [int(x) for x in np.linspace(start = 1, stop = 10, num = 5)], # Jumlah minimum samples pada leaf agar boleh terbentuk leaf baru\n",
    "                       max_features = ['auto', 'sqrt', 'log2'], # Jumlah feature yg dipertimbangkan pada masing-masing split\n",
    "                       n_jobs = [-1], # Core untuk parallel computation. -1 untuk menggunakan semua core\n",
    "                      )\n",
    "\n",
    "# Init\n",
    "rf = RandomForestClassifier(random_state=123)\n",
    "rf_tuned = RandomizedSearchCV(rf, hyperparameters, cv=5, random_state=42, scoring='recall')\n",
    "rf_tuned.fit(Xtrains, ytrains)\n",
    "\n",
    "# Predict & Evaluation\n",
    "eval_classification(rf_tuned)"
   ]
  },
  {
   "cell_type": "markdown",
   "id": "6d25a140-fd0d-407e-b93e-5798f24f5579",
   "metadata": {},
   "source": [
    "# Decision Tree"
   ]
  },
  {
   "cell_type": "code",
   "execution_count": 77,
   "id": "0f9c5805-ceff-463f-8a6a-8bf4a58eb0cc",
   "metadata": {},
   "outputs": [
    {
     "name": "stdout",
     "output_type": "stream",
     "text": [
      "Accuracy (Test Set): 0.90\n",
      "Accuracy (Train Set): 1.00\n",
      "Precision (Test Set): 0.64\n",
      "Precision (Train Set): 1.00\n",
      "Recall (Test Set): 0.74\n",
      "Recall (Train Set): 1.00\n",
      "F1-Score (Test Set): 0.69\n",
      "F1-Score (Train Set): 1.00\n",
      "AUC (test-proba): 0.83\n",
      "AUC (train-proba): 1.00\n",
      "Confusion Matrix): [[1194   94]\n",
      " [  61  170]]\n"
     ]
    }
   ],
   "source": [
    "from sklearn.tree import DecisionTreeClassifier\n",
    "model = DecisionTreeClassifier(random_state=123)\n",
    "model.fit(Xtrains, ytrains)\n",
    "\n",
    "y_pred = model.predict(Xtests)\n",
    "eval_classification(model)"
   ]
  },
  {
   "cell_type": "code",
   "execution_count": 78,
   "id": "f6fea17b-cb92-45ea-a5cb-5313a8ad29ac",
   "metadata": {},
   "outputs": [
    {
     "name": "stdout",
     "output_type": "stream",
     "text": [
      "Accuracy (Test Set): 0.85\n",
      "Accuracy (Train Set): 0.95\n",
      "Precision (Test Set): 0.51\n",
      "Precision (Train Set): 0.97\n",
      "Recall (Test Set): 0.57\n",
      "Recall (Train Set): 0.94\n",
      "F1-Score (Test Set): 0.54\n",
      "F1-Score (Train Set): 0.95\n",
      "AUC (test-proba): 0.85\n",
      "AUC (train-proba): 0.99\n",
      "Confusion Matrix): [[1163  125]\n",
      " [ 100  131]]\n"
     ]
    }
   ],
   "source": [
    "from sklearn.model_selection import RandomizedSearchCV\n",
    "from scipy.stats import uniform\n",
    "import numpy as np\n",
    "\n",
    "# List of hyperparameter\n",
    "max_depth = [int(x) for x in np.linspace(1, 150, num = 30)] \n",
    "min_samples_split = [10, 100]\n",
    "min_samples_leaf = [2, 4, 10]\n",
    "max_features = ['auto', 'sqrt'] \n",
    "ccp_alpha =[0.0]\n",
    "\n",
    "hyperparameters = dict(max_depth=max_depth, \n",
    "                       min_samples_split=min_samples_split, \n",
    "                       min_samples_leaf=min_samples_leaf,\n",
    "                       max_features=max_features,\n",
    "                       ccp_alpha=ccp_alpha\n",
    "                      )\n",
    "\n",
    "# Inisialisasi Model\n",
    "dt = DecisionTreeClassifier(random_state=123)\n",
    "dt = RandomizedSearchCV(dt, hyperparameters, cv=5, random_state=123, scoring='recall')\n",
    "dt.fit(Xtrains, ytrains)\n",
    "# Predict & Evaluation\n",
    "y_pred = dt.predict(Xtests)\n",
    "eval_classification(dt)"
   ]
  }
 ],
 "metadata": {
  "kernelspec": {
   "display_name": "Python 3 (ipykernel)",
   "language": "python",
   "name": "python3"
  },
  "language_info": {
   "codemirror_mode": {
    "name": "ipython",
    "version": 3
   },
   "file_extension": ".py",
   "mimetype": "text/x-python",
   "name": "python",
   "nbconvert_exporter": "python",
   "pygments_lexer": "ipython3",
   "version": "3.9.7"
  }
 },
 "nbformat": 4,
 "nbformat_minor": 5
}
